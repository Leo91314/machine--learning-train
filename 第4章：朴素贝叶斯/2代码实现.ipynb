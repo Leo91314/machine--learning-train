{
 "cells": [
  {
   "cell_type": "code",
   "id": "initial_id",
   "metadata": {
    "collapsed": true,
    "ExecuteTime": {
     "end_time": "2025-06-26T09:27:11.975794Z",
     "start_time": "2025-06-26T09:27:11.969388Z"
    }
   },
   "source": [
    "import numpy as np\n",
    "\n",
    "def loaddata():\n",
    "    X = np.array([[1,'S'],[1,'M'],[1,'M'],[1,'S'],\n",
    "         [1, 'S'], [2, 'S'], [2, 'M'], [2, 'M'],\n",
    "         [2, 'L'], [2, 'L'], [3, 'L'], [3, 'M'],\n",
    "         [3, 'M'], [3, 'L'], [3, 'L']])\n",
    "    y = np.array([-1,-1,1,1,-1,-1,-1,1,1,1,1,1,1,1,-1])\n",
    "    return X, y"
   ],
   "outputs": [],
   "execution_count": 38
  },
  {
   "metadata": {},
   "cell_type": "markdown",
   "source": [
    "### 训练，计算各个概率值\n",
    "<img src=\"images/01.png\" width=\"400\" align=\"left\"/>"
   ],
   "id": "62c7807f0125bfea"
  },
  {
   "metadata": {
    "ExecuteTime": {
     "end_time": "2025-06-26T09:27:11.989424Z",
     "start_time": "2025-06-26T09:27:11.985943Z"
    }
   },
   "cell_type": "code",
   "source": [
    "def Train(train_set,train_labels):\n",
    "    m = train_set.shape[0]#样本数\n",
    "    n = train_set.shape[1]#特征数\n",
    "    prior_probability = {}#存储先验概率，key上类别值，value为概率\n",
    "    conditional_probability = {}\n",
    "    labels = set(train_labels)\n",
    "    for label in labels:\n",
    "        prior_probability[label] = len(train_labels[train_labels == label])\n",
    "    for i in range(m):\n",
    "        for j in range(n):\n",
    "            key = str(train_labels[i])+','+str(j)+','+str(train_set[i][j])\n",
    "            if key in conditional_probability:\n",
    "                conditional_probability[key] += 1\n",
    "            else:\n",
    "                conditional_probability[key] = 1\n",
    "    conditional_probability_final = {}\n",
    "    for key in conditional_probability:\n",
    "        label = key.split(',')[0]\n",
    "        conditional_probability_final[key] = conditional_probability[key]/prior_probability[int(label)]\n",
    "    for label in labels:\n",
    "        prior_probability[label] = prior_probability[label]/m\n",
    "    return prior_probability,conditional_probability_final, labels\n"
   ],
   "id": "47ba8398c506f31a",
   "outputs": [],
   "execution_count": 39
  },
  {
   "metadata": {
    "ExecuteTime": {
     "end_time": "2025-06-26T09:27:11.998859Z",
     "start_time": "2025-06-26T09:27:11.996464Z"
    }
   },
   "cell_type": "code",
   "source": [
    "X, y = loaddata()\n",
    "prior_probability,conditional_probability_final, labels = Train(X,y)\n",
    "print('prior',str(prior_probability))\n",
    "print(conditional_probability_final)\n"
   ],
   "id": "ea27c99e93c38f7e",
   "outputs": [
    {
     "name": "stdout",
     "output_type": "stream",
     "text": [
      "prior {1: 0.6, -1: 0.4}\n",
      "{'-1,0,1': 0.5, '-1,1,S': 0.5, '-1,1,M': 0.3333333333333333, '1,0,1': 0.2222222222222222, '1,1,M': 0.4444444444444444, '1,1,S': 0.1111111111111111, '-1,0,2': 0.3333333333333333, '1,0,2': 0.3333333333333333, '1,1,L': 0.4444444444444444, '1,0,3': 0.4444444444444444, '-1,0,3': 0.16666666666666666, '-1,1,L': 0.16666666666666666}\n"
     ]
    }
   ],
   "execution_count": 40
  },
  {
   "metadata": {
    "ExecuteTime": {
     "end_time": "2025-06-26T09:27:12.009664Z",
     "start_time": "2025-06-26T09:27:12.007255Z"
    }
   },
   "cell_type": "code",
   "source": [
    "def predict(data):\n",
    "    result={}\n",
    "    for label in labels:\n",
    "        temp=1.0\n",
    "        for j in range(len(data)):\n",
    "            key = str(label)+','+str(j)+','+str(data[j])\n",
    "            #条件概率连乘\n",
    "            temp = temp*conditional_probability_final[key]\n",
    "        #再乘上先验概率\n",
    "        result[label] = temp * prior_probability[label]\n",
    "    print('result=',result)\n",
    "    #排序返回标签值\n",
    "    return sorted(result.items(), key=lambda x: x[1],reverse=True)[0][0]\n"
   ],
   "id": "d4d5929b57372114",
   "outputs": [],
   "execution_count": 41
  },
  {
   "metadata": {
    "ExecuteTime": {
     "end_time": "2025-06-26T09:27:12.023959Z",
     "start_time": "2025-06-26T09:27:12.021474Z"
    }
   },
   "cell_type": "code",
   "source": [
    "y_hat = predict([2,'S'])\n",
    "print(y_hat)"
   ],
   "id": "8439cae4064a8f07",
   "outputs": [
    {
     "name": "stdout",
     "output_type": "stream",
     "text": [
      "result= {1: 0.02222222222222222, -1: 0.06666666666666667}\n",
      "-1\n"
     ]
    }
   ],
   "execution_count": 42
  }
 ],
 "metadata": {
  "kernelspec": {
   "display_name": "Python 3",
   "language": "python",
   "name": "python3"
  },
  "language_info": {
   "codemirror_mode": {
    "name": "ipython",
    "version": 2
   },
   "file_extension": ".py",
   "mimetype": "text/x-python",
   "name": "python",
   "nbconvert_exporter": "python",
   "pygments_lexer": "ipython2",
   "version": "2.7.6"
  }
 },
 "nbformat": 4,
 "nbformat_minor": 5
}
