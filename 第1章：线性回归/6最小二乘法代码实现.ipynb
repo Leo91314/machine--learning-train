{
 "cells": [
  {
   "metadata": {},
   "cell_type": "markdown",
   "source": [
    "最小二乘法求解线性回归（Ordinary Least Squares Linear Regression）\n",
    "最小二乘法是一种经典的线性回归方法，通过最小化预测值与真实值之间的平方误差来估计模型参数。该方法不引入正则化项，适用于特征数量较少且数据噪声较低的场景。\n",
    "\n",
    "1. 目标函数 (Objective Function)\n",
    "最小二乘法的目标是最小化以下损失函数：\n",
    "$$ J(\\theta) = \\frac{1}{2m} \\sum_{i=1}^{m} (h_\\theta(x^{(i)}) - y^{(i)})^2 $$\n",
    "其中：\n",
    "$ h_\\theta(x) $：假设函数，即预测值；\n",
    "$ m $：样本数量；\n",
    "$ \\theta_j $：模型参数（权重）；\n",
    "$ x^{(i)} $：第 $ i $ 个样本的输入特征；\n",
    "$ y^{(i)} $：第 $ i $ 个样本的真实值。\n",
    "\n",
    "2. 假设函数形式（Hypothesis Function）\n",
    "对于多元线性回归，假设函数为：\n",
    "$$ h_\\theta(x) = \\theta_0 + \\theta_1 x_1 + \\theta_2 x_2 + \\dots + \\theta_n x_n = \\sum_{j=0}^{n} \\theta_j x_j $$\n",
    "其中 $ x_0 = 1 $，作为偏置项。\n",
    "\n",
    "3. 求解方式（解析解）\n",
    "最小二乘法可以通过正规方程（Normal Equation）直接求得最优参数解，无需迭代优化：\n",
    "$$ \\theta = (X^T X)^{-1} X^T y $$\n",
    "其中：\n",
    "$ X $：输入特征矩阵（维度为 $ m \\times (n+1) $）；\n",
    "$ y $：目标值向量（维度为 $ m \\times 1 $）；\n",
    "$ \\theta $：模型参数向量。\n",
    "注意：该方法要求 $ X^T X $ 可逆。若不可逆，可通过引入岭回归等正则化手段解决。\n",
    "\n",
    "4. 向量化形式（Vectorized Form）\n",
    "在实际代码实现中，可以利用 NumPy 的矩阵运算高效实现正规方程：\n",
    "$$ \\theta = \\text{np.linalg.inv}(X.T @ X) @ X.T @ y $$"
   ],
   "id": "814aad3964419811"
  },
  {
   "metadata": {
    "ExecuteTime": {
     "end_time": "2025-06-18T10:07:32.764385Z",
     "start_time": "2025-06-18T10:07:32.286070Z"
    }
   },
   "cell_type": "code",
   "source": [
    "import numpy as np\n",
    "\n",
    "def linear_regression_normal_equation(X, y):\n",
    "    \"\"\"\n",
    "    使用正规方程求解线性回归问题\n",
    "\n",
    "    参数:\n",
    "    X -- 输入特征矩阵 (m x n+1)\n",
    "    y -- 目标值向量 (m x 1)\n",
    "\n",
    "    返回:\n",
    "    theta -- 模型参数向量 (n+1 x 1)\n",
    "    \"\"\"\n",
    "    # 计算正规方程解\n",
    "    theta = np.linalg.inv(X.T @ X) @ X.T @ y\n",
    "    return theta\n",
    "# 构造一个简单的数据集\n",
    "X = np.array([[1, 1], [1, 2], [1, 3]])  # 添加偏置项 x0 = 1\n",
    "y = np.array([2, 3, 4])\n",
    "\n",
    "# 求解模型参数\n",
    "theta = linear_regression_normal_equation(X, y)\n",
    "print(\"模型参数 theta:\", theta)\n"
   ],
   "id": "6aa9c45324255915",
   "outputs": [
    {
     "name": "stdout",
     "output_type": "stream",
     "text": [
      "模型参数 theta: [1. 1.]\n"
     ]
    }
   ],
   "execution_count": 1
  }
 ],
 "metadata": {
  "kernelspec": {
   "display_name": "Python 3",
   "language": "python",
   "name": "python3"
  },
  "language_info": {
   "codemirror_mode": {
    "name": "ipython",
    "version": 2
   },
   "file_extension": ".py",
   "mimetype": "text/x-python",
   "name": "python",
   "nbconvert_exporter": "python",
   "pygments_lexer": "ipython2",
   "version": "2.7.6"
  }
 },
 "nbformat": 4,
 "nbformat_minor": 5
}
