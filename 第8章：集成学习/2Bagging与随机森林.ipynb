{
 "cells": [
  {
   "metadata": {},
   "cell_type": "markdown",
   "source": [
    "# Bagging与随机森林（Random Forest）详解\n",
    "\n",
    "Bagging（Bootstrap Aggregating）和随机森林都是**集成学习（Ensemble Learning）**的重要方法，通过组合多个模型来提升准确率、降低方差和防止过拟合。\n",
    "\n",
    "---\n",
    "\n",
    "## 一、Bagging（Bootstrap Aggregating）\n",
    "\n",
    "### 1. 核心思想\n",
    "\n",
    "Bagging主要用于**降低模型方差**。它通过**有放回随机采样（Bootstrap）**生成多个训练集，分别训练多个基模型，然后将它们的预测结果进行平均（回归）或投票（分类）。\n",
    "\n",
    "### 2. 算法流程\n",
    "\n",
    "1. 对原始数据集进行多次有放回采样，生成 $B$ 个不同的Bootstrap样本；\n",
    "2. 在每个Bootstrap样本上训练一个基学习器（如决策树）；\n",
    "3. 对新样本预测时：\n",
    "   - 分类：多数投票\n",
    "   - 回归：取平均值\n",
    "\n",
    "公式（回归）：\n",
    "$$\n",
    "\\hat{f}_{bag}(x) = \\frac{1}{B}\\sum_{b=1}^B \\hat{f}^{(b)}(x)\n",
    "$$\n",
    "\n",
    "---\n",
    "\n",
    "### 3. 优缺点\n",
    "\n",
    "✅ **优点：**\n",
    "- 有效减少高方差模型（如决策树）的过拟合\n",
    "- 简单易实现\n",
    "- 适用于多种基学习器\n",
    "\n",
    "❌ **缺点：**\n",
    "- 并不能降低偏差（如果基模型有偏差）\n",
    "- 需要更多计算资源\n",
    "\n",
    "---\n",
    "\n",
    "## 二、随机森林（Random Forest）\n",
    "\n",
    "随机森林是在Bagging基础上改进的一种方法。它引入了**特征随机性**，进一步增强模型多样性。\n",
    "\n",
    "### 1. 核心思想\n",
    "\n",
    "在Bagging的基础上，随机森林在每棵树节点分裂时：\n",
    "- **随机选择部分特征子集进行划分**\n",
    "\n",
    "这样每棵树不仅数据不同，特征也不同，进一步减少相关性。\n",
    "\n",
    "---\n",
    "\n",
    "### 2. 算法流程\n",
    "\n",
    "1. Bootstrap采样生成多个数据子集\n",
    "2. 对每棵树：\n",
    "   - 生成一棵完全生长（不剪枝）的决策树\n",
    "   - 每个节点分裂时随机选取 $m$ 个特征（$m < M$），在这 $m$ 个特征中选择最佳分裂\n",
    "\n",
    "默认：\n",
    "- 分类：$m = \\sqrt{M}$\n",
    "- 回归：$m = M/3$\n",
    "\n",
    "3. 对新样本预测：\n",
    "   - 分类：多数投票\n",
    "   - 回归：取平均\n",
    "\n",
    "---\n",
    "\n",
    "### 3. 随机森林与Bagging的区别\n",
    "\n",
    "| 特性               | Bagging                  | 随机森林              |\n",
    "|--------------------|--------------------------|-----------------------|\n",
    "| 数据采样           | Bootstrap                | Bootstrap             |\n",
    "| 特征采样           | 无                       | 每个分裂随机选特征   |\n",
    "| 基模型             | 任意模型（常用树）       | 决策树（不剪枝）     |\n",
    "| 相关性降低         | 较低                     | 更低                 |\n",
    "\n",
    "---\n",
    "\n",
    "### 4. 优缺点\n",
    "\n",
    "✅ **优点：**\n",
    "- 更低方差\n",
    "- 不易过拟合\n",
    "- 对缺失值鲁棒\n",
    "- 可用于特征重要性评估\n",
    "\n",
    "❌ **缺点：**\n",
    "- 可解释性差\n",
    "- 大规模数据训练较慢\n",
    "- 占用更多内存\n",
    "\n",
    "---\n",
    "\n",
    "## 三、Python示例（使用 scikit-learn）\n",
    "\n",
    "```python\n",
    "from sklearn.ensemble import BaggingClassifier, RandomForestClassifier\n",
    "from sklearn.tree import DecisionTreeClassifier\n",
    "from sklearn.datasets import load_iris\n",
    "from sklearn.model_selection import train_test_split\n",
    "from sklearn.metrics import accuracy_score\n",
    "\n",
    "# 加载数据\n",
    "X, y = load_iris(return_X_y=True)\n",
    "X_train, X_test, y_train, y_test = train_test_split(X, y, random_state=42)\n",
    "\n",
    "# Bagging\n",
    "bagging = BaggingClassifier(\n",
    "    base_estimator=DecisionTreeClassifier(),\n",
    "    n_estimators=100,\n",
    "    random_state=42\n",
    ")\n",
    "bagging.fit(X_train, y_train)\n",
    "y_pred_bag = bagging.predict(X_test)\n",
    "print(\"Bagging Accuracy:\", accuracy_score(y_test, y_pred_bag))\n",
    "\n",
    "# Random Forest\n",
    "rf = RandomForestClassifier(\n",
    "    n_estimators=100,\n",
    "    random_state=42\n",
    ")\n",
    "rf.fit(X_train, y_train)\n",
    "y_pred_rf = rf.predict(X_test)\n",
    "print(\"Random Forest Accuracy:\", accuracy_score(y_test, y_pred_rf))\n",
    "```\n",
    "\n",
    "---\n",
    "\n",
    "## 四、总结\n",
    "\n",
    "- **Bagging**：通过Bootstrap采样训练多个基模型，提升稳定性和准确性。\n",
    "- **随机森林**：在Bagging基础上引入特征随机性，使模型更具多样性和抗过拟合能力。\n",
    "- 随机森林是Bagging的扩展，也是目前最受欢迎的集成方法之一。\n",
    "\n",
    "---\n",
    "\n",
    "> **Tip:** 在特征维度较高、模型容易过拟合的场景，推荐使用随机森林。"
   ],
   "id": "bdd804ae1f0f80e9"
  },
  {
   "cell_type": "code",
   "id": "initial_id",
   "metadata": {
    "collapsed": true,
    "ExecuteTime": {
     "end_time": "2025-07-09T23:25:14.320708Z",
     "start_time": "2025-07-09T23:25:14.314783Z"
    }
   },
   "source": [
    "from sklearn.ensemble import VotingClassifier\n",
    "from sklearn.ensemble import RandomForestClassifier\n",
    "from sklearn.ensemble import BaggingClassifier\n",
    "from sklearn.linear_model import LogisticRegression\n",
    "from sklearn.svm import SVC\n",
    "from sklearn.datasets import load_iris\n",
    "from sklearn.tree import DecisionTreeClassifier\n",
    "from sklearn.metrics import accuracy_score\n",
    "from sklearn.model_selection import train_test_split\n",
    "import numpy as np"
   ],
   "outputs": [],
   "execution_count": 10
  },
  {
   "metadata": {
    "ExecuteTime": {
     "end_time": "2025-07-09T23:25:14.340055Z",
     "start_time": "2025-07-09T23:25:14.334768Z"
    }
   },
   "cell_type": "code",
   "source": [
    "iris = load_iris()\n",
    "X = iris.data\n",
    "y = iris.target"
   ],
   "id": "e56183d30c59c2e0",
   "outputs": [],
   "execution_count": 11
  },
  {
   "metadata": {
    "ExecuteTime": {
     "end_time": "2025-07-09T23:25:14.355074Z",
     "start_time": "2025-07-09T23:25:14.350242Z"
    }
   },
   "cell_type": "code",
   "source": [
    "bag_clf = BaggingClassifier(\n",
    "    SVC(),\n",
    "    n_estimators=500,\n",
    "    max_samples=100,\n",
    "    bootstrap=True,\n",
    "    n_jobs=-1,\n",
    "    oob_score= True#袋外样本\n",
    ")"
   ],
   "id": "afdfb491512fc1e",
   "outputs": [],
   "execution_count": 12
  },
  {
   "metadata": {
    "ExecuteTime": {
     "end_time": "2025-07-09T23:25:14.630477Z",
     "start_time": "2025-07-09T23:25:14.363600Z"
    }
   },
   "cell_type": "code",
   "source": [
    "bag_clf.fit(X, y)\n",
    "y_pred = bag_clf.predict(X)\n",
    "print(accuracy_score(y, y_pred))\n",
    "print(bag_clf.oob_score_)"
   ],
   "id": "6e0f99481128cbfe",
   "outputs": [
    {
     "name": "stdout",
     "output_type": "stream",
     "text": [
      "0.9666666666666667\n",
      "0.96\n"
     ]
    }
   ],
   "execution_count": 13
  },
  {
   "metadata": {
    "ExecuteTime": {
     "end_time": "2025-07-09T23:25:14.649974Z",
     "start_time": "2025-07-09T23:25:14.648426Z"
    }
   },
   "cell_type": "code",
   "source": "",
   "id": "848e2c1832853033",
   "outputs": [],
   "execution_count": null
  },
  {
   "metadata": {},
   "cell_type": "markdown",
   "source": "# 基分类器设置为决策树",
   "id": "acbf38961493e5d"
  },
  {
   "metadata": {},
   "cell_type": "markdown",
   "source": "",
   "id": "1af4a0c8b270dd37"
  },
  {
   "metadata": {
    "ExecuteTime": {
     "end_time": "2025-07-09T23:25:14.664078Z",
     "start_time": "2025-07-09T23:25:14.660367Z"
    }
   },
   "cell_type": "code",
   "source": [
    "bag_clf = BaggingClassifier(\n",
    "    DecisionTreeClassifier(),\n",
    "    n_estimators=500,\n",
    "    max_samples=100,\n",
    "    bootstrap=True,\n",
    "    n_jobs=-1\n",
    ")"
   ],
   "id": "5243f180377cbb3c",
   "outputs": [],
   "execution_count": 14
  },
  {
   "metadata": {
    "ExecuteTime": {
     "end_time": "2025-07-09T23:25:14.786731Z",
     "start_time": "2025-07-09T23:25:14.672308Z"
    }
   },
   "cell_type": "code",
   "source": [
    "bag_clf.fit(X, y)\n",
    "y_pred = bag_clf.predict(X)\n",
    "print(accuracy_score(y, y_pred))\n",
    "# print(bag_clf.oob_score_)"
   ],
   "id": "c8e93e976c038177",
   "outputs": [
    {
     "name": "stdout",
     "output_type": "stream",
     "text": [
      "1.0\n"
     ]
    }
   ],
   "execution_count": 15
  },
  {
   "metadata": {},
   "cell_type": "markdown",
   "source": "# 随机森林的API",
   "id": "9612bb67a5c14033"
  },
  {
   "metadata": {
    "ExecuteTime": {
     "end_time": "2025-07-09T23:26:09.924633Z",
     "start_time": "2025-07-09T23:26:09.653357Z"
    }
   },
   "cell_type": "code",
   "source": [
    "rnd_clf = RandomForestClassifier(n_estimators=500, max_leaf_nodes=16, n_jobs=-1)\n",
    "rnd_clf.fit(X, y)\n",
    "y_pred_rf = rnd_clf.predict(X)\n",
    "print(accuracy_score(y, y_pred_rf))"
   ],
   "id": "1c42e13bdc059518",
   "outputs": [
    {
     "name": "stdout",
     "output_type": "stream",
     "text": [
      "1.0\n"
     ]
    }
   ],
   "execution_count": 16
  }
 ],
 "metadata": {
  "kernelspec": {
   "display_name": "Python 3",
   "language": "python",
   "name": "python3"
  },
  "language_info": {
   "codemirror_mode": {
    "name": "ipython",
    "version": 2
   },
   "file_extension": ".py",
   "mimetype": "text/x-python",
   "name": "python",
   "nbconvert_exporter": "python",
   "pygments_lexer": "ipython2",
   "version": "2.7.6"
  }
 },
 "nbformat": 4,
 "nbformat_minor": 5
}
