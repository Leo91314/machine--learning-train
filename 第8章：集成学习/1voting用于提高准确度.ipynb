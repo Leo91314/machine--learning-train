{
 "cells": [
  {
   "metadata": {},
   "cell_type": "markdown",
   "source": [
    "  # 集成学习：Voting（投票法）详解\n",
    "\n",
    "**Voting（投票法）**是集成学习（Ensemble Learning）中最简单、最直观的方法之一。它通过**结合多个基模型的预测**，以提升整体预测性能和鲁棒性。\n",
    "\n",
    "---\n",
    "\n",
    "## 一、核心思想\n",
    "\n",
    "Voting通过构建**多个不同的基分类器（或回归器）**，再将它们的预测进行合并：\n",
    "\n",
    "- 分类任务：采用投票机制（多数投票或加权投票）\n",
    "- 回归任务：采用平均机制（简单平均或加权平均）\n",
    "\n",
    "Voting并不改变基模型本身，而是提升预测的**稳定性与泛化能力**。\n",
    "\n",
    "---\n",
    "\n",
    "## 二、Voting分类器类型\n",
    "\n",
    "### 1. 硬投票（Hard Voting）\n",
    "\n",
    "**多数投票（Majority Voting）**：\n",
    "\n",
    "- 每个分类器输出一个类别标签\n",
    "- 最终结果是出现次数最多的类别\n",
    "\n",
    "公式：\n",
    "$$\n",
    "\\hat{y} = \\arg\\max_c \\sum_{i=1}^{M} \\mathbb{I}(h_i(x) = c)\n",
    "$$\n",
    "\n",
    "其中：\n",
    "- $h_i(x)$：第$i$个模型对样本$x$的预测\n",
    "- $\\mathbb{I}$：指示函数（若条件为真则为1）\n",
    "\n",
    "---\n",
    "\n",
    "### 2. 软投票（Soft Voting）\n",
    "\n",
    "**概率平均投票（Averaging Probabilities）**：\n",
    "\n",
    "- 每个分类器输出预测概率分布\n",
    "- 将概率加权平均，再选择最大概率类别\n",
    "\n",
    "公式：\n",
    "$$\n",
    "\\hat{y} = \\arg\\max_c \\sum_{i=1}^{M} w_i \\cdot P_i(y = c \\mid x)\n",
    "$$\n",
    "\n",
    "其中：\n",
    "- $w_i$：第$i$个模型权重（默认等权）\n",
    "- $P_i$：第$i$个模型预测的概率\n",
    "\n",
    "> **注意**：软投票要求基模型支持 `predict_proba()`。\n",
    "\n",
    "---\n",
    "\n",
    "## 三、Voting与Bagging/Boosting的对比\n",
    "\n",
    "| 特性             | Voting               | Bagging                 | Boosting                   |\n",
    "|------------------|----------------------|-------------------------|----------------------------|\n",
    "| 样本重采样       | 否                   | 有（自助采样）          | 有（依赖上一次模型）       |\n",
    "| 基模型依赖性     | 无（独立）           | 无（独立）              | 有（串行依赖）             |\n",
    "| 权重调整         | 可选（加权投票）     | 无                      | 有（误差加权）             |\n",
    "| 适用场景         | 各种基模型的简单集成 | 同质基模型（如树）       | 同质弱学习器（如树桩）     |\n",
    "\n",
    "---\n",
    "\n",
    "## 四、优缺点\n",
    "\n",
    "### ✅ 优点：\n",
    "- 简单易实现\n",
    "- 可整合不同类型的模型\n",
    "- 提高模型稳定性\n",
    "\n",
    "### ❌ 缺点：\n",
    "- 不一定显著优于最好的单一模型\n",
    "- 如果基模型过于相似，提升有限\n",
    "- 软投票需支持概率预测\n",
    "\n",
    "---\n",
    "\n",
    "## 五、Python示例（使用scikit-learn）\n",
    "\n",
    "```python\n",
    "from sklearn.datasets import load_iris\n",
    "from sklearn.model_selection import train_test_split\n",
    "from sklearn.linear_model import LogisticRegression\n",
    "from sklearn.neighbors import KNeighborsClassifier\n",
    "from sklearn.tree import DecisionTreeClassifier\n",
    "from sklearn.ensemble import VotingClassifier\n",
    "from sklearn.metrics import accuracy_score\n",
    "\n",
    "# 加载数据\n",
    "X, y = load_iris(return_X_y=True)\n",
    "X_train, X_test, y_train, y_test = train_test_split(X, y, random_state=42)\n",
    "\n",
    "# 定义基模型\n",
    "clf1 = LogisticRegression(max_iter=200, random_state=42)\n",
    "clf2 = KNeighborsClassifier(n_neighbors=5)\n",
    "clf3 = DecisionTreeClassifier(random_state=42)\n",
    "\n",
    "# 硬投票\n",
    "voting_hard = VotingClassifier(\n",
    "    estimators=[('lr', clf1), ('knn', clf2), ('dt', clf3)],\n",
    "    voting='hard'\n",
    ")\n",
    "\n",
    "voting_hard.fit(X_train, y_train)\n",
    "y_pred_hard = voting_hard.predict(X_test)\n",
    "print(\"Hard Voting Accuracy:\", accuracy_score(y_test, y_pred_hard))\n",
    "\n",
    "# 软投票\n",
    "voting_soft = VotingClassifier(\n",
    "    estimators=[('lr', clf1), ('knn', clf2), ('dt', clf3)],\n",
    "    voting='soft'\n",
    ")\n",
    "\n",
    "voting_soft.fit(X_train, y_train)\n",
    "y_pred_soft = voting_soft.predict(X_test)\n",
    "print(\"Soft Voting Accuracy:\", accuracy_score(y_test, y_pred_soft))\n",
    "```\n",
    "\n",
    "---\n",
    "\n",
    "## 六、什么时候使用Voting？\n",
    "\n",
    "- 当你有**多种性能相近的模型**，想要提升泛化能力；\n",
    "- 当模型彼此**差异较大**（多样性高）；\n",
    "- 当需要简单集成方法而不想使用复杂的Boosting。\n",
    "\n",
    "---\n",
    "\n",
    "## 七、Tips\n",
    "\n",
    "- 投票法通常效果：\n",
    "  - 多样性 > 相似性\n",
    "  - 软投票 > 硬投票\n",
    "- 在使用软投票时要确保所有模型支持 `predict_proba()`\n",
    "- 可以设置不同权重 `weights=[...]`，提升强模型的贡献\n",
    "\n",
    "---\n",
    "\n",
    "## 八、总结\n",
    "\n",
    "Voting是最简单的集成学习方法，通过整合多个基模型预测结果来提高性能和稳定性。在实际项目中，可以把它作为集成的第一步，结合Stacking等更高级方法进一步提升效果。\n",
    "\n",
    "---"
   ],
   "id": "55500d20d06556a0"
  },
  {
   "metadata": {},
   "cell_type": "markdown",
   "source": "# 原理解释",
   "id": "a3790607ae89da4f"
  },
  {
   "metadata": {
    "ExecuteTime": {
     "end_time": "2025-07-09T21:14:47.163396Z",
     "start_time": "2025-07-09T21:14:47.123856Z"
    }
   },
   "cell_type": "code",
   "source": [
    "import numpy\n",
    "import numpy as np\n",
    "n = 1000\n",
    "p = np.array([0.51, 0.49])\n",
    "result = []\n",
    "for i in range(1000):\n",
    "    num = numpy.random.choice([0, 1],size=n, p=p.ravel())\n",
    "    if len(num[num==0])>len(num[num==1]):\n",
    "        result.append(0)\n",
    "    else:\n",
    "        result.append(1)\n",
    "result = np.array(result)\n",
    "print(len(result[result==0])/float(len(result)))"
   ],
   "id": "c1b6636fd98f732e",
   "outputs": [
    {
     "name": "stdout",
     "output_type": "stream",
     "text": [
      "0.753\n"
     ]
    }
   ],
   "execution_count": 16
  },
  {
   "metadata": {},
   "cell_type": "markdown",
   "source": "# 硬投票",
   "id": "e6ba6d28f2e161c9"
  },
  {
   "metadata": {
    "ExecuteTime": {
     "end_time": "2025-07-09T21:14:47.172005Z",
     "start_time": "2025-07-09T21:14:47.169969Z"
    }
   },
   "cell_type": "code",
   "source": [
    "from sklearn.ensemble import VotingClassifier\n",
    "\n",
    "from sklearn.linear_model import LogisticRegression\n",
    "from sklearn.tree import DecisionTreeClassifier\n",
    "from sklearn.svm import SVC\n",
    "\n",
    "from sklearn.metrics import accuracy_score\n",
    "from sklearn.datasets import make_moons\n",
    "from sklearn.model_selection import train_test_split\n",
    "import matplotlib.pyplot as plt"
   ],
   "id": "5b945910771d7210",
   "outputs": [],
   "execution_count": 17
  },
  {
   "metadata": {
    "ExecuteTime": {
     "end_time": "2025-07-09T21:14:47.186609Z",
     "start_time": "2025-07-09T21:14:47.182792Z"
    }
   },
   "cell_type": "code",
   "source": "X, y = make_moons(n_samples=7000, noise=0.1, random_state=42)",
   "id": "8db6d1817550159e",
   "outputs": [],
   "execution_count": 18
  },
  {
   "metadata": {
    "ExecuteTime": {
     "end_time": "2025-07-09T21:14:47.411775Z",
     "start_time": "2025-07-09T21:14:47.195165Z"
    }
   },
   "cell_type": "code",
   "source": "plt.scatter(X[:,0], X[:,1], c=y)",
   "id": "a4206056d9b01f52",
   "outputs": [
    {
     "data": {
      "text/plain": [
       "<matplotlib.collections.PathCollection at 0x16786a7c0>"
      ]
     },
     "execution_count": 19,
     "metadata": {},
     "output_type": "execute_result"
    },
    {
     "data": {
      "text/plain": [
       "<Figure size 640x480 with 1 Axes>"
      ],
      "image/png": "[encoded data removed]"
     },
     "metadata": {},
     "output_type": "display_data"
    }
   ],
   "execution_count": 19
  },
  {
   "metadata": {
    "ExecuteTime": {
     "end_time": "2025-07-09T21:14:47.429172Z",
     "start_time": "2025-07-09T21:14:47.425692Z"
    }
   },
   "cell_type": "code",
   "source": "X_train , X_test, y_train, y_test = train_test_split(X, y, random_state=42, test_size=0.2)",
   "id": "1bc0198ba4774be2",
   "outputs": [],
   "execution_count": 20
  },
  {
   "metadata": {},
   "cell_type": "markdown",
   "source": "# 定义三个分类器",
   "id": "15013b859e61ef24"
  },
  {
   "metadata": {},
   "cell_type": "markdown",
   "source": [
    " 逻辑回归\n",
    " 决策树\n",
    " SVM"
   ],
   "id": "d370e41f7b982f7"
  },
  {
   "metadata": {
    "ExecuteTime": {
     "end_time": "2025-07-09T21:14:47.442639Z",
     "start_time": "2025-07-09T21:14:47.440252Z"
    }
   },
   "cell_type": "code",
   "source": [
    "lr = LogisticRegression()\n",
    "dt = DecisionTreeClassifier()\n",
    "svm = SVC()"
   ],
   "id": "e5c083b59d075c34",
   "outputs": [],
   "execution_count": 21
  },
  {
   "metadata": {},
   "cell_type": "markdown",
   "source": "# 投票分类器",
   "id": "f24769744173d52b"
  },
  {
   "metadata": {
    "ExecuteTime": {
     "end_time": "2025-07-09T21:14:47.462844Z",
     "start_time": "2025-07-09T21:14:47.459740Z"
    }
   },
   "cell_type": "code",
   "source": [
    "voting = VotingClassifier(\n",
    "    estimators=[('lr', lr), ('dt', dt), ('svm', svm)],voting='hard'\n",
    ")"
   ],
   "id": "3ac8d0f069968a76",
   "outputs": [],
   "execution_count": 22
  },
  {
   "metadata": {
    "ExecuteTime": {
     "end_time": "2025-07-09T21:14:47.591740Z",
     "start_time": "2025-07-09T21:14:47.477619Z"
    }
   },
   "cell_type": "code",
   "source": [
    "for clf in (lr, dt, svm, voting):\n",
    "    clf.fit(X_train, y_train)\n",
    "    y_pred = clf.predict(X_test)\n",
    "    print(clf.__class__.__name__, accuracy_score(y_test, y_pred))"
   ],
   "id": "731ae10c34d5cf86",
   "outputs": [
    {
     "name": "stdout",
     "output_type": "stream",
     "text": [
      "LogisticRegression 0.8921428571428571\n",
      "DecisionTreeClassifier 0.9935714285714285\n",
      "SVC 0.9978571428571429\n",
      "VotingClassifier 0.9964285714285714\n"
     ]
    }
   ],
   "execution_count": 23
  }
 ],
 "metadata": {
  "kernelspec": {
   "display_name": "Python 3",
   "language": "python",
   "name": "python3"
  },
  "language_info": {
   "codemirror_mode": {
    "name": "ipython",
    "version": 2
   },
   "file_extension": ".py",
   "mimetype": "text/x-python",
   "name": "python",
   "nbconvert_exporter": "python",
   "pygments_lexer": "ipython2",
   "version": "2.7.6"
  }
 },
 "nbformat": 4,
 "nbformat_minor": 5
}
