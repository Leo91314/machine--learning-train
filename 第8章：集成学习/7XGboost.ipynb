{
 "cells": [
  {
   "metadata": {},
   "cell_type": "markdown",
   "source": [
    "# XGBoost 详解\n",
    "\n",
    "**XGBoost（Extreme Gradient Boosting）**是梯度提升树（GBDT）的高效实现，因其**速度快、效果好**，在Kaggle、工业界广泛使用。\n",
    "\n",
    "---\n",
    "\n",
    "## 一、核心思想\n",
    "\n",
    "XGBoost基于**梯度提升树**，在GBDT的基础上引入了：\n",
    "- **二阶梯度信息**（近似泰勒展开）\n",
    "- **正则化**（防止过拟合）\n",
    "- **稀疏优化**（支持缺失值）\n",
    "- **分布式并行训练**\n",
    "\n",
    "这些优化让XGBoost既快又稳。\n",
    "\n",
    "---\n",
    "\n",
    "## 二、目标函数\n",
    "\n",
    "XGBoost优化以下目标：\n",
    "$$\n",
    "\\mathcal{L}^{(t)} = \\sum_{i=1}^n \\ell(y_i, \\hat{y}_i^{(t)}) + \\sum_{k=1}^t \\Omega(f_k)\n",
    "$$\n",
    "\n",
    "**其中：**\n",
    "- $\\ell$：损失函数（如平方误差、逻辑损失）\n",
    "- $f_k$：第$k$棵树\n",
    "- $\\Omega(f)$：正则项\n",
    "\n",
    "### 正则项：\n",
    "$$\n",
    "\\Omega(f) = \\gamma T + \\frac{1}{2}\\lambda \\sum_{j=1}^T w_j^2\n",
    "$$\n",
    "\n",
    "- $T$：叶子数\n",
    "- $w_j$：叶子权重\n",
    "- $\\gamma$：叶子数惩罚\n",
    "- $\\lambda$：叶子权重L2正则\n",
    "\n",
    "---\n",
    "\n",
    "## 三、二阶泰勒展开\n",
    "\n",
    "为了高效优化目标函数，XGBoost在每轮做二阶展开：\n",
    "\n",
    "$$\n",
    "\\ell(y_i, \\hat{y}_i^{(t)}) \\approx \\ell(y_i, \\hat{y}_i^{(t-1)}) + g_i f_t(x_i) + \\frac{1}{2} h_i f_t(x_i)^2\n",
    "$$\n",
    "\n",
    "**其中：**\n",
    "- $g_i = \\partial_{\\hat{y}^{(t-1)}} \\ell(y_i, \\hat{y}^{(t-1)})$ （一阶梯度）\n",
    "- $h_i = \\partial^2_{\\hat{y}^{(t-1)}} \\ell(y_i, \\hat{y}^{(t-1)})$ （二阶梯度）\n",
    "\n",
    "每棵树拟合 $(g_i, h_i)$。\n",
    "\n",
    "---\n",
    "\n",
    "## 四、树结构分裂\n",
    "\n",
    "XGBoost通过**贪心算法**选择分裂点：\n",
    "- 遍历特征+分裂点，计算增益\n",
    "- 选择增益最大的分裂\n",
    "\n",
    "**分裂增益公式：**\n",
    "$$\n",
    "Gain = \\frac{1}{2}\\left[\\frac{G_L^2}{H_L + \\lambda} + \\frac{G_R^2}{H_R + \\lambda} - \\frac{(G_L + G_R)^2}{H_L + H_R + \\lambda}\\right] - \\gamma\n",
    "$$\n",
    "\n",
    "- $G_L, H_L$：左子集梯度和二阶梯度和\n",
    "- $G_R, H_R$：右子集\n",
    "\n",
    "---\n",
    "\n",
    "## 五、支持的任务\n",
    "\n",
    "- 回归\n",
    "- 二分类\n",
    "- 多分类\n",
    "- 排序（LambdaRank）\n",
    "- 用户自定义目标函数\n",
    "\n",
    "---\n",
    "\n",
    "## 六、与GBDT对比\n",
    "\n",
    "| 特性                  | GBDT（原始）           | XGBoost                      |\n",
    "|-----------------------|------------------------|------------------------------|\n",
    "| 梯度                  | 一阶                  | 一阶+二阶                   |\n",
    "| 正则化                | 无                    | L2正则+叶子数惩罚           |\n",
    "| 支持稀疏              | 无                    | 支持                         |\n",
    "| 并行                  | 较弱                  | 高效并行                     |\n",
    "| 增益计算              | 直接分裂             | 泰勒展开+增益公式           |\n",
    "\n",
    "---\n",
    "\n",
    "## 七、优缺点\n",
    "\n",
    "✅ **优点**\n",
    "- 性能强大，几乎是比赛标配\n",
    "- 并行高效\n",
    "- 支持自定义损失\n",
    "- 防止过拟合\n",
    "\n",
    "❌ **缺点**\n",
    "- 超参数较多\n",
    "- 解释性较差\n",
    "\n",
    "---\n",
    "\n",
    "## 八、Python示例（sklearn接口）\n",
    "\n",
    "```python\n",
    "from xgboost import XGBClassifier\n",
    "from sklearn.datasets import load_iris\n",
    "from sklearn.model_selection import train_test_split\n",
    "from sklearn.metrics import accuracy_score\n",
    "\n",
    "# 加载数据\n",
    "X, y = load_iris(return_X_y=True)\n",
    "X_train, X_test, y_train, y_test = train_test_split(X, y, random_state=42)\n",
    "\n",
    "# 定义XGBoost模型\n",
    "xgb = XGBClassifier(\n",
    "    n_estimators=100,\n",
    "    learning_rate=0.1,\n",
    "    max_depth=3,\n",
    "    subsample=0.8,\n",
    "    colsample_bytree=0.8,\n",
    "    reg_lambda=1,\n",
    "    gamma=0,\n",
    "    use_label_encoder=False,\n",
    "    eval_metric=\"mlogloss\",\n",
    "    random_state=42\n",
    ")\n",
    "\n",
    "xgb.fit(X_train, y_train)\n",
    "y_pred = xgb.predict(X_test)\n",
    "\n",
    "print(\"XGBoost Accuracy:\", accuracy_score(y_test, y_pred))\n",
    "```\n",
    "\n",
    "---\n",
    "\n",
    "## 九、调参要点\n",
    "\n",
    "1. **n_estimators**\n",
    "   - 树数量\n",
    "2. **learning_rate**\n",
    "   - 步长\n",
    "   - 通常0.01~0.2\n",
    "3. **max_depth**\n",
    "   - 树深度\n",
    "4. **subsample**\n",
    "   - 样本采样比例\n",
    "5. **colsample_bytree**\n",
    "   - 特征采样比例\n",
    "6. **gamma**\n",
    "   - 分裂增益阈值\n",
    "7. **reg_lambda**\n",
    "   - L2正则\n",
    "\n",
    "> 一般先确定学习率，再调树深度与采样比例。\n",
    "\n",
    "---\n",
    "\n",
    "## 十、总结\n",
    "\n",
    "**XGBoost**是提升树的最强工具之一：\n",
    "- 在GBDT基础上引入二阶梯度、正则化、稀疏优化\n",
    "- 性能优异，适合大规模数据\n",
    "- 推荐配合LightGBM、CatBoost进行对比\n",
    "\n",
    "---"
   ],
   "id": "4a28aa9fb7d0225"
  },
  {
   "metadata": {},
   "cell_type": "markdown",
   "source": "",
   "id": "ba3328bd4bf7e26b"
  },
  {
   "metadata": {
    "ExecuteTime": {
     "end_time": "2025-07-12T09:41:28.492998Z",
     "start_time": "2025-07-12T09:41:28.489307Z"
    }
   },
   "cell_type": "code",
   "source": "import xgboost as xgb",
   "id": "7ebc464585e2c7b8",
   "outputs": [],
   "execution_count": 10
  },
  {
   "metadata": {},
   "cell_type": "markdown",
   "source": [
    "#### 读取数据\n",
    "\n",
    "XGBoost中数据形式可以是libsvm的，libsvm作用是对稀疏特征进行优化，看个例子：\n",
    "\n",
    "```\n",
    "1 101:1.2 102:0.03\n",
    "0 1:2.1 10001:300 10002:400\n",
    "0 2:1.2 1212:21 7777:2\n",
    "```\n",
    "每行表示一个样本，每行开头0，1表示标签，而后面的则是特征索引：数值，其他未表示都是0.\n",
    "\n",
    "我们以判断蘑菇是否有毒为例子来做后续的训练。数据集来自：http://archive.ics.uci.edu/ml/machine-learning-databases/mushroom/ ，其中蘑菇有22个属性，将这些原始的特征加工后得到126维特征，并保存为libsvm格式，标签是表示蘑菇是否有毒。"
   ],
   "id": "2e0c87b9c7619a3f"
  },
  {
   "metadata": {
    "ExecuteTime": {
     "end_time": "2025-07-12T09:41:28.519864Z",
     "start_time": "2025-07-12T09:41:28.504268Z"
    }
   },
   "cell_type": "code",
   "source": [
    "data_train = xgb.DMatrix('data/agaricus.txt.train?format=libsvm')\n",
    "data_test = xgb.DMatrix('data/agaricus.txt.test?format=libsvm')\n"
   ],
   "id": "56f2d0bf5a591fba",
   "outputs": [],
   "execution_count": 11
  },
  {
   "metadata": {},
   "cell_type": "markdown",
   "source": [
    "#### 设置参数\n",
    " - eta：可看成学习率learning_rate。典型值一般设置为：0.01-0.2\n",
    " - gamma：分裂节点时，损失函数减小值只有大于等于gamma才分裂，gamma值越大，算法越保守，越不容易过拟合，但性能就不一定能保证，需要平衡。\n",
    " - objective\n",
    "    - reg:linear：线性回归\n",
    "\n",
    "    - reg:logistic：逻辑回归\n",
    "\n",
    "    - binary:logistic 二分类的逻辑回归，返回预测的概率\n",
    "\n",
    "    - binary:logitraw：二分类逻辑回归，输出是逻辑为0/1的前一步的分数\n",
    "\n",
    "    - multi:softmax：用于Xgboost 做多分类问题，需要设置num_class（分类的个数）\n",
    "\n",
    "    - multi:softprob：和softmax一样，但是返回的是每个数据属于各个类别的概率。\n",
    "\n",
    "    - rank:pairwise：让Xgboost 做排名任务，通过最小化(Learn to rank的一种方法)\n",
    " - max_depth：决策树最大深度\n",
    " - silent：0 (silent), 1 (warning), 2 (info), 3 (debug)\n",
    "\n",
    " 更多参数参见：https://xgboost.readthedocs.io/en/latest/parameter.html"
   ],
   "id": "4f812485d5b1d510"
  },
  {
   "metadata": {
    "ExecuteTime": {
     "end_time": "2025-07-12T09:41:28.544143Z",
     "start_time": "2025-07-12T09:41:28.528032Z"
    }
   },
   "cell_type": "code",
   "source": [
    "params = {'eta': 0.3, 'max_depth': 3, 'objective': 'binary:logistic', 'silent': 1}\n",
    "num_round = 6\n",
    "watchlist = [(data_train, 'train'), (data_test, 'eval')]\n",
    "model = xgb.train(params, data_train, num_round, watchlist)"
   ],
   "id": "5f63bc301cf1395",
   "outputs": [
    {
     "name": "stdout",
     "output_type": "stream",
     "text": [
      "[0]\ttrain-logloss:0.45163\teval-logloss:0.45249\n",
      "[1]\ttrain-logloss:0.32248\teval-logloss:0.32376\n",
      "[2]\ttrain-logloss:0.23607\teval-logloss:0.23759\n",
      "[3]\ttrain-logloss:0.16919\teval-logloss:0.16919\n",
      "[4]\ttrain-logloss:0.12377\teval-logloss:0.12343\n",
      "[5]\ttrain-logloss:0.09110\teval-logloss:0.08988\n"
     ]
    },
    {
     "name": "stderr",
     "output_type": "stream",
     "text": [
      "/opt/homebrew/anaconda3/envs/pytorch2023/lib/python3.9/site-packages/xgboost/core.py:158: UserWarning: [17:41:28] WARNING: /Users/runner/work/xgboost/xgboost/src/learner.cc:740: \n",
      "Parameters: { \"silent\" } are not used.\n",
      "\n",
      "  warnings.warn(smsg, UserWarning)\n"
     ]
    }
   ],
   "execution_count": 12
  },
  {
   "metadata": {
    "ExecuteTime": {
     "end_time": "2025-07-12T09:43:29.734926Z",
     "start_time": "2025-07-12T09:43:29.730312Z"
    }
   },
   "cell_type": "code",
   "source": [
    "y_hat = model.predict(data_test)\n",
    "\n",
    "y_pred = y_hat.copy()\n",
    "y_pred[y_pred >= 0.5] = 1\n",
    "y_pred[y_pred < 0.5] = 0\n",
    "y = data_test.get_label()\n",
    "y_pred"
   ],
   "id": "9ef38ba1a7a1a701",
   "outputs": [
    {
     "data": {
      "text/plain": [
       "array([0., 1., 0., ..., 1., 0., 1.], dtype=float32)"
      ]
     },
     "execution_count": 14,
     "metadata": {},
     "output_type": "execute_result"
    }
   ],
   "execution_count": 14
  },
  {
   "metadata": {
    "ExecuteTime": {
     "end_time": "2025-07-12T09:43:54.581778Z",
     "start_time": "2025-07-12T09:43:54.572876Z"
    }
   },
   "cell_type": "code",
   "source": [
    "from sklearn.metrics import accuracy_score\n",
    "print(accuracy_score(y, y_pred))"
   ],
   "id": "e7c0be955af5c34e",
   "outputs": [
    {
     "name": "stdout",
     "output_type": "stream",
     "text": [
      "1.0\n"
     ]
    }
   ],
   "execution_count": 15
  },
  {
   "metadata": {
    "ExecuteTime": {
     "end_time": "2025-07-12T09:45:15.298770Z",
     "start_time": "2025-07-12T09:45:15.181969Z"
    }
   },
   "cell_type": "code",
   "source": [
    "from matplotlib import pyplot\n",
    "import graphviz\n",
    "xgb.to_graphviz(model, num_trees=5)"
   ],
   "id": "d17886ac83014cbf",
   "outputs": [
    {
     "data": {
      "image/svg+xml": "<?xml version=\"1.0\" encoding=\"UTF-8\" standalone=\"no\"?>\n<!DOCTYPE svg PUBLIC \"-//W3C//DTD SVG 1.1//EN\"\n \"http://www.w3.org/Graphics/SVG/1.1/DTD/svg11.dtd\">\n<!-- Generated by graphviz version 13.0.1 (20250615.1724)\n -->\n<!-- Pages: 1 -->\n<svg width=\"1064pt\" height=\"310pt\"\n viewBox=\"0.00 0.00 1064.00 310.00\" xmlns=\"http://www.w3.org/2000/svg\" xmlns:xlink=\"http://www.w3.org/1999/xlink\">\n<g id=\"graph0\" class=\"graph\" transform=\"scale(1 1) rotate(0) translate(4 305.5)\">\n<polygon fill=\"white\" stroke=\"none\" points=\"-4,4 -4,-305.5 1060.05,-305.5 1060.05,4 -4,4\"/>\n<!-- 0 -->\n<g id=\"node1\" class=\"node\">\n<title>0</title>\n<ellipse fill=\"none\" stroke=\"black\" cx=\"527.06\" cy=\"-283.5\" rx=\"72.85\" ry=\"18\"/>\n<text xml:space=\"preserve\" text-anchor=\"middle\" x=\"527.06\" y=\"-278.45\" font-family=\"Times,serif\" font-size=\"14.00\">f29&lt;2.00001001</text>\n</g>\n<!-- 1 -->\n<g id=\"node2\" class=\"node\">\n<title>1</title>\n<ellipse fill=\"none\" stroke=\"black\" cx=\"439.06\" cy=\"-195\" rx=\"72.85\" ry=\"18\"/>\n<text xml:space=\"preserve\" text-anchor=\"middle\" x=\"439.06\" y=\"-189.95\" font-family=\"Times,serif\" font-size=\"14.00\">f67&lt;2.00001001</text>\n</g>\n<!-- 0&#45;&gt;1 -->\n<g id=\"edge1\" class=\"edge\">\n<title>0&#45;&gt;1</title>\n<path fill=\"none\" stroke=\"#ff0000\" d=\"M510.09,-265.82C497.15,-253.1 479.11,-235.37 464.45,-220.96\"/>\n<polygon fill=\"#ff0000\" stroke=\"#ff0000\" points=\"466.94,-218.5 457.35,-213.98 462.03,-223.49 466.94,-218.5\"/>\n<text xml:space=\"preserve\" text-anchor=\"middle\" x=\"499.94\" y=\"-234.2\" font-family=\"Times,serif\" font-size=\"14.00\">yes</text>\n</g>\n<!-- 2 -->\n<g id=\"node3\" class=\"node\">\n<title>2</title>\n<ellipse fill=\"none\" stroke=\"black\" cx=\"622.06\" cy=\"-195\" rx=\"72.85\" ry=\"18\"/>\n<text xml:space=\"preserve\" text-anchor=\"middle\" x=\"622.06\" y=\"-189.95\" font-family=\"Times,serif\" font-size=\"14.00\">f23&lt;2.00001001</text>\n</g>\n<!-- 0&#45;&gt;2 -->\n<g id=\"edge2\" class=\"edge\">\n<title>0&#45;&gt;2</title>\n<path fill=\"none\" stroke=\"#0000ff\" d=\"M545.38,-265.82C559.57,-252.9 579.44,-234.81 595.4,-220.28\"/>\n<polygon fill=\"#0000ff\" stroke=\"#0000ff\" points=\"597.64,-222.97 602.68,-213.65 592.93,-217.79 597.64,-222.97\"/>\n<text xml:space=\"preserve\" text-anchor=\"middle\" x=\"614.94\" y=\"-234.2\" font-family=\"Times,serif\" font-size=\"14.00\">no, missing</text>\n</g>\n<!-- 3 -->\n<g id=\"node4\" class=\"node\">\n<title>3</title>\n<ellipse fill=\"none\" stroke=\"black\" cx=\"261.06\" cy=\"-106.5\" rx=\"72.85\" ry=\"18\"/>\n<text xml:space=\"preserve\" text-anchor=\"middle\" x=\"261.06\" y=\"-101.45\" font-family=\"Times,serif\" font-size=\"14.00\">f39&lt;2.00001001</text>\n</g>\n<!-- 1&#45;&gt;3 -->\n<g id=\"edge3\" class=\"edge\">\n<title>1&#45;&gt;3</title>\n<path fill=\"none\" stroke=\"#ff0000\" d=\"M407.24,-178.54C378.31,-164.48 335.4,-143.63 303.55,-128.15\"/>\n<polygon fill=\"#ff0000\" stroke=\"#ff0000\" points=\"305.09,-125.01 294.57,-123.78 302.03,-131.3 305.09,-125.01\"/>\n<text xml:space=\"preserve\" text-anchor=\"middle\" x=\"375\" y=\"-145.7\" font-family=\"Times,serif\" font-size=\"14.00\">yes</text>\n</g>\n<!-- 4 -->\n<g id=\"node5\" class=\"node\">\n<title>4</title>\n<ellipse fill=\"none\" stroke=\"black\" cx=\"439.06\" cy=\"-106.5\" rx=\"77.45\" ry=\"18\"/>\n<text xml:space=\"preserve\" text-anchor=\"middle\" x=\"439.06\" y=\"-101.45\" font-family=\"Times,serif\" font-size=\"14.00\">f109&lt;2.00001001</text>\n</g>\n<!-- 1&#45;&gt;4 -->\n<g id=\"edge4\" class=\"edge\">\n<title>1&#45;&gt;4</title>\n<path fill=\"none\" stroke=\"#0000ff\" d=\"M439.06,-176.91C439.06,-165.26 439.06,-149.55 439.06,-136.02\"/>\n<polygon fill=\"#0000ff\" stroke=\"#0000ff\" points=\"442.56,-136.36 439.06,-126.36 435.56,-136.36 442.56,-136.36\"/>\n<text xml:space=\"preserve\" text-anchor=\"middle\" x=\"470.93\" y=\"-145.7\" font-family=\"Times,serif\" font-size=\"14.00\">no, missing</text>\n</g>\n<!-- 5 -->\n<g id=\"node10\" class=\"node\">\n<title>5</title>\n<ellipse fill=\"none\" stroke=\"black\" cx=\"622.06\" cy=\"-106.5\" rx=\"82.06\" ry=\"18\"/>\n<text xml:space=\"preserve\" text-anchor=\"middle\" x=\"622.06\" y=\"-101.45\" font-family=\"Times,serif\" font-size=\"14.00\">leaf=&#45;0.356159776</text>\n</g>\n<!-- 2&#45;&gt;5 -->\n<g id=\"edge9\" class=\"edge\">\n<title>2&#45;&gt;5</title>\n<path fill=\"none\" stroke=\"#ff0000\" d=\"M622.06,-176.91C622.06,-165.26 622.06,-149.55 622.06,-136.02\"/>\n<polygon fill=\"#ff0000\" stroke=\"#ff0000\" points=\"625.56,-136.36 622.06,-126.36 618.56,-136.36 625.56,-136.36\"/>\n<text xml:space=\"preserve\" text-anchor=\"middle\" x=\"631.06\" y=\"-145.7\" font-family=\"Times,serif\" font-size=\"14.00\">yes</text>\n</g>\n<!-- 6 -->\n<g id=\"node11\" class=\"node\">\n<title>6</title>\n<ellipse fill=\"none\" stroke=\"black\" cx=\"798.06\" cy=\"-106.5\" rx=\"72.85\" ry=\"18\"/>\n<text xml:space=\"preserve\" text-anchor=\"middle\" x=\"798.06\" y=\"-101.45\" font-family=\"Times,serif\" font-size=\"14.00\">f24&lt;2.00001001</text>\n</g>\n<!-- 2&#45;&gt;6 -->\n<g id=\"edge10\" class=\"edge\">\n<title>2&#45;&gt;6</title>\n<path fill=\"none\" stroke=\"#0000ff\" d=\"M653.53,-178.54C682.13,-164.48 724.55,-143.63 756.05,-128.15\"/>\n<polygon fill=\"#0000ff\" stroke=\"#0000ff\" points=\"757.48,-131.34 764.92,-123.79 754.4,-125.06 757.48,-131.34\"/>\n<text xml:space=\"preserve\" text-anchor=\"middle\" x=\"757.7\" y=\"-145.7\" font-family=\"Times,serif\" font-size=\"14.00\">no, missing</text>\n</g>\n<!-- 7 -->\n<g id=\"node6\" class=\"node\">\n<title>7</title>\n<ellipse fill=\"none\" stroke=\"black\" cx=\"82.06\" cy=\"-18\" rx=\"82.06\" ry=\"18\"/>\n<text xml:space=\"preserve\" text-anchor=\"middle\" x=\"82.06\" y=\"-12.95\" font-family=\"Times,serif\" font-size=\"14.00\">leaf=&#45;0.412145853</text>\n</g>\n<!-- 3&#45;&gt;7 -->\n<g id=\"edge5\" class=\"edge\">\n<title>3&#45;&gt;7</title>\n<path fill=\"none\" stroke=\"#ff0000\" d=\"M229.06,-90.04C200.02,-76 156.98,-55.21 124.97,-39.74\"/>\n<polygon fill=\"#ff0000\" stroke=\"#ff0000\" points=\"126.88,-36.77 116.36,-35.57 123.84,-43.08 126.88,-36.77\"/>\n<text xml:space=\"preserve\" text-anchor=\"middle\" x=\"196.59\" y=\"-57.2\" font-family=\"Times,serif\" font-size=\"14.00\">yes</text>\n</g>\n<!-- 8 -->\n<g id=\"node7\" class=\"node\">\n<title>8</title>\n<ellipse fill=\"none\" stroke=\"black\" cx=\"261.06\" cy=\"-18\" rx=\"78.99\" ry=\"18\"/>\n<text xml:space=\"preserve\" text-anchor=\"middle\" x=\"261.06\" y=\"-12.95\" font-family=\"Times,serif\" font-size=\"14.00\">leaf=0.428784966</text>\n</g>\n<!-- 3&#45;&gt;8 -->\n<g id=\"edge6\" class=\"edge\">\n<title>3&#45;&gt;8</title>\n<path fill=\"none\" stroke=\"#0000ff\" d=\"M261.06,-88.41C261.06,-76.76 261.06,-61.05 261.06,-47.52\"/>\n<polygon fill=\"#0000ff\" stroke=\"#0000ff\" points=\"264.56,-47.86 261.06,-37.86 257.56,-47.86 264.56,-47.86\"/>\n<text xml:space=\"preserve\" text-anchor=\"middle\" x=\"292.93\" y=\"-57.2\" font-family=\"Times,serif\" font-size=\"14.00\">no, missing</text>\n</g>\n<!-- 9 -->\n<g id=\"node8\" class=\"node\">\n<title>9</title>\n<ellipse fill=\"none\" stroke=\"black\" cx=\"437.06\" cy=\"-18\" rx=\"78.99\" ry=\"18\"/>\n<text xml:space=\"preserve\" text-anchor=\"middle\" x=\"437.06\" y=\"-12.95\" font-family=\"Times,serif\" font-size=\"14.00\">leaf=0.289775938</text>\n</g>\n<!-- 4&#45;&gt;9 -->\n<g id=\"edge7\" class=\"edge\">\n<title>4&#45;&gt;9</title>\n<path fill=\"none\" stroke=\"#ff0000\" d=\"M438.66,-88.41C438.4,-76.76 438.03,-61.05 437.72,-47.52\"/>\n<polygon fill=\"#ff0000\" stroke=\"#ff0000\" points=\"441.23,-47.78 437.5,-37.86 434.23,-47.94 441.23,-47.78\"/>\n<text xml:space=\"preserve\" text-anchor=\"middle\" x=\"447.24\" y=\"-57.2\" font-family=\"Times,serif\" font-size=\"14.00\">yes</text>\n</g>\n<!-- 10 -->\n<g id=\"node9\" class=\"node\">\n<title>10</title>\n<ellipse fill=\"none\" stroke=\"black\" cx=\"616.06\" cy=\"-18\" rx=\"82.06\" ry=\"18\"/>\n<text xml:space=\"preserve\" text-anchor=\"middle\" x=\"616.06\" y=\"-12.95\" font-family=\"Times,serif\" font-size=\"14.00\">leaf=&#45;0.323223531</text>\n</g>\n<!-- 4&#45;&gt;10 -->\n<g id=\"edge8\" class=\"edge\">\n<title>4&#45;&gt;10</title>\n<path fill=\"none\" stroke=\"#0000ff\" d=\"M471.11,-89.84C499.75,-75.84 541.93,-55.23 573.42,-39.84\"/>\n<polygon fill=\"#0000ff\" stroke=\"#0000ff\" points=\"574.84,-43.04 582.29,-35.5 571.77,-36.75 574.84,-43.04\"/>\n<text xml:space=\"preserve\" text-anchor=\"middle\" x=\"575.29\" y=\"-57.2\" font-family=\"Times,serif\" font-size=\"14.00\">no, missing</text>\n</g>\n<!-- 11 -->\n<g id=\"node12\" class=\"node\">\n<title>11</title>\n<ellipse fill=\"none\" stroke=\"black\" cx=\"798.06\" cy=\"-18\" rx=\"82.06\" ry=\"18\"/>\n<text xml:space=\"preserve\" text-anchor=\"middle\" x=\"798.06\" y=\"-12.95\" font-family=\"Times,serif\" font-size=\"14.00\">leaf=&#45;0.377237707</text>\n</g>\n<!-- 6&#45;&gt;11 -->\n<g id=\"edge11\" class=\"edge\">\n<title>6&#45;&gt;11</title>\n<path fill=\"none\" stroke=\"#ff0000\" d=\"M798.06,-88.41C798.06,-76.76 798.06,-61.05 798.06,-47.52\"/>\n<polygon fill=\"#ff0000\" stroke=\"#ff0000\" points=\"801.56,-47.86 798.06,-37.86 794.56,-47.86 801.56,-47.86\"/>\n<text xml:space=\"preserve\" text-anchor=\"middle\" x=\"807.06\" y=\"-57.2\" font-family=\"Times,serif\" font-size=\"14.00\">yes</text>\n</g>\n<!-- 12 -->\n<g id=\"node13\" class=\"node\">\n<title>12</title>\n<ellipse fill=\"none\" stroke=\"black\" cx=\"977.06\" cy=\"-18\" rx=\"78.99\" ry=\"18\"/>\n<text xml:space=\"preserve\" text-anchor=\"middle\" x=\"977.06\" y=\"-12.95\" font-family=\"Times,serif\" font-size=\"14.00\">leaf=0.338941991</text>\n</g>\n<!-- 6&#45;&gt;12 -->\n<g id=\"edge12\" class=\"edge\">\n<title>6&#45;&gt;12</title>\n<path fill=\"none\" stroke=\"#0000ff\" d=\"M830.06,-90.04C859.19,-75.96 902.41,-55.08 934.45,-39.59\"/>\n<polygon fill=\"#0000ff\" stroke=\"#0000ff\" points=\"935.58,-42.93 943.07,-35.43 932.54,-36.63 935.58,-42.93\"/>\n<text xml:space=\"preserve\" text-anchor=\"middle\" x=\"935.47\" y=\"-57.2\" font-family=\"Times,serif\" font-size=\"14.00\">no, missing</text>\n</g>\n</g>\n</svg>\n",
      "text/plain": [
       "<graphviz.sources.Source at 0x15abab220>"
      ]
     },
     "execution_count": 17,
     "metadata": {},
     "output_type": "execute_result"
    }
   ],
   "execution_count": 17
  }
 ],
 "metadata": {
  "kernelspec": {
   "display_name": "Python 3",
   "language": "python",
   "name": "python3"
  },
  "language_info": {
   "codemirror_mode": {
    "name": "ipython",
    "version": 2
   },
   "file_extension": ".py",
   "mimetype": "text/x-python",
   "name": "python",
   "nbconvert_exporter": "python",
   "pygments_lexer": "ipython2",
   "version": "2.7.6"
  }
 },
 "nbformat": 4,
 "nbformat_minor": 5
}
