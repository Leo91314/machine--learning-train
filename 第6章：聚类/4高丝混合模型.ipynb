{
 "cells": [
  {
   "cell_type": "code",
   "id": "initial_id",
   "metadata": {
    "collapsed": true,
    "ExecuteTime": {
     "end_time": "2025-07-08T04:44:47.229579Z",
     "start_time": "2025-07-08T04:44:47.227044Z"
    }
   },
   "source": [
    ""
   ],
   "outputs": [],
   "execution_count": null
  },
  {
   "metadata": {},
   "cell_type": "markdown",
   "source": [
    "# 高斯混合模型（Gaussian Mixture Model, GMM）详解\n",
    "\n",
    "高斯混合模型是一种**基于概率模型的无监督聚类方法**，假设数据由多个高斯分布（正态分布）混合而成，并试图识别这些分布的参数。\n",
    "\n",
    "它既可以用于聚类，也适用于密度估计、异常检测、图像分割等场景。\n",
    "\n",
    "---\n",
    "\n",
    "## 一、核心思想\n",
    "\n",
    "- 假设数据由 $K$ 个高斯分布混合而成，每个分布具有自己的均值和协方差；\n",
    "- 每个样本点由某个高斯分布“生成”，但我们不知道是哪个；\n",
    "- GMM 用概率方式表达聚类结果（软聚类）；\n",
    "- 每个点属于各个簇的概率由模型给出。\n",
    "\n",
    "---\n",
    "\n",
    "## 二、数学模型\n",
    "\n",
    "### 1. 混合模型公式\n",
    "\n",
    "数据点 $x$ 的概率密度为：\n",
    "\n",
    "$$\n",
    "p(x) = \\sum_{k=1}^{K} \\pi_k \\cdot \\mathcal{N}(x \\mid \\mu_k, \\Sigma_k)\n",
    "$$\n",
    "\n",
    "其中：\n",
    "\n",
    "- $\\pi_k$：第 $k$ 个高斯成分的权重，满足 $\\sum_k \\pi_k = 1$\n",
    "- $\\mathcal{N}(x \\mid \\mu_k, \\Sigma_k)$：均值为 $\\mu_k$，协方差为 $\\Sigma_k$ 的高斯分布\n",
    "\n",
    "### 2. 多维高斯密度函数\n",
    "\n",
    "$$\n",
    "\\mathcal{N}(x \\mid \\mu, \\Sigma) = \\frac{1}{(2\\pi)^{d/2} |\\Sigma|^{1/2}} \\exp\\left( -\\frac{1}{2}(x - \\mu)^T \\Sigma^{-1} (x - \\mu) \\right)\n",
    "$$\n",
    "\n",
    "---\n",
    "\n",
    "## 三、参数估计：EM算法（Expectation-Maximization）\n",
    "\n",
    "由于我们不知道每个样本来自哪个高斯分布，使用 EM 算法进行参数估计。\n",
    "\n",
    "### 步骤：\n",
    "\n",
    "1. **初始化**：设定初始的 $\\mu_k$, $\\Sigma_k$, $\\pi_k$\n",
    "2. **E步（Expectation）**：计算每个样本来自每个簇的“责任”：\n",
    "\n",
    "   $$\n",
    "   \\gamma_{ik} = \\frac{\\pi_k \\cdot \\mathcal{N}(x_i \\mid \\mu_k, \\Sigma_k)}{\\sum_{j=1}^K \\pi_j \\cdot \\mathcal{N}(x_i \\mid \\mu_j, \\Sigma_j)}\n",
    "   $$\n",
    "\n",
    "3. **M步（Maximization）**：更新参数：\n",
    "\n",
    "   $$\n",
    "   N_k = \\sum_{i=1}^n \\gamma_{ik}\n",
    "   $$\n",
    "\n",
    "   $$\n",
    "   \\mu_k = \\frac{1}{N_k} \\sum_{i=1}^n \\gamma_{ik} x_i\n",
    "   $$\n",
    "\n",
    "   $$\n",
    "   \\Sigma_k = \\frac{1}{N_k} \\sum_{i=1}^n \\gamma_{ik} (x_i - \\mu_k)(x_i - \\mu_k)^T\n",
    "   $$\n",
    "\n",
    "   $$\n",
    "   \\pi_k = \\frac{N_k}{n}\n",
    "   $$\n",
    "\n",
    "4. **重复 E/M 步骤**直到收敛（对数似然函数收敛）。\n",
    "\n",
    "---\n",
    "\n",
    "## 四、GMM vs K-Means\n",
    "\n",
    "| 特性               | GMM（软聚类）               | K-Means（硬聚类）         |\n",
    "|--------------------|-----------------------------|----------------------------|\n",
    "| 聚类边界           | 椭圆形/任意方向             | 圆形/等距划分              |\n",
    "| 聚类概率           | 每个点有属于每个簇的概率    | 每个点只属于一个簇         |\n",
    "| 对协方差建模       | 是                          | 否                         |\n",
    "| 算法收敛           | EM算法（更复杂）            | Lloyd算法（更简单）        |\n",
    "| 表现能力           | 更强                        | 一般                       |\n",
    "\n",
    "---\n",
    "\n",
    "## 五、优缺点\n",
    "\n",
    "### ✅ 优点：\n",
    "- 可建模椭圆形簇、不同大小和方向；\n",
    "- 输出概率，更有解释性；\n",
    "- 可用于密度估计、异常检测等。\n",
    "\n",
    "### ❌ 缺点：\n",
    "- 需要指定簇数 $K$；\n",
    "- 对初始值敏感（可能收敛到局部最优）；\n",
    "- 对离群点和高维数据敏感；\n",
    "- 收敛速度比 K-Means 慢。\n",
    "\n",
    "---\n",
    "\n",
    "## 六、Python 示例（使用 scikit-learn）\n",
    "\n",
    "```python\n",
    "import numpy as np\n",
    "from sklearn.mixture import GaussianMixture\n",
    "from sklearn.datasets import make_blobs\n",
    "import matplotlib.pyplot as plt\n",
    "\n",
    "# 生成模拟数据\n",
    "X, y_true = make_blobs(n_samples=300, centers=3, cluster_std=0.6, random_state=42)\n",
    "\n",
    "# 拟合GMM\n",
    "gmm = GaussianMixture(n_components=3, covariance_type='full', random_state=42)\n",
    "gmm.fit(X)\n",
    "labels = gmm.predict(X)\n",
    "\n",
    "# 可视化结果\n",
    "plt.scatter(X[:, 0], X[:, 1], c=labels, s=30, cmap='viridis')\n",
    "plt.title(\"GMM Clustering Result\")\n",
    "plt.xlabel(\"Feature 1\")\n",
    "plt.ylabel(\"Feature 2\")\n",
    "plt.show()\n",
    "```\n",
    "\n",
    "---\n",
    "\n",
    "## 七、选择簇数K的方法\n",
    "\n",
    "1. **AIC (Akaike Information Criterion)**：\n",
    "   - 越小越好；\n",
    "   - 兼顾拟合度与模型复杂度。\n",
    "\n",
    "2. **BIC (Bayesian Information Criterion)**：\n",
    "   - 类似 AIC，但惩罚项更强；\n",
    "   - 更偏好简单模型。\n",
    "\n",
    "```python\n",
    "aic_vals = []\n",
    "bic_vals = []\n",
    "ks = range(1, 10)\n",
    "\n",
    "for k in ks:\n",
    "    gmm = GaussianMixture(n_components=k, random_state=42)\n",
    "    gmm.fit(X)\n",
    "    aic_vals.append(gmm.aic(X))\n",
    "    bic_vals.append(gmm.bic(X))\n",
    "\n",
    "plt.plot(ks, aic_vals, label='AIC')\n",
    "plt.plot(ks, bic_vals, label='BIC')\n",
    "plt.xlabel(\"Number of Components (K)\")\n",
    "plt.ylabel(\"Score\")\n",
    "plt.legend()\n",
    "plt.show()\n",
    "```\n",
    "\n",
    "---\n",
    "\n",
    "## 八、总结\n",
    "\n",
    "高斯混合模型是一种强大的概率聚类方法，能处理复杂形状的数据分布，并提供每个点的簇分布概率。虽然对初始值较敏感，但在许多实际应用中效果优异，尤其适合软聚类场景。\n",
    "\n",
    "---"
   ],
   "id": "146a41d337837606"
  },
  {
   "metadata": {
    "ExecuteTime": {
     "end_time": "2025-07-08T04:44:47.236436Z",
     "start_time": "2025-07-08T04:44:47.234150Z"
    }
   },
   "cell_type": "code",
   "source": [
    "import numpy as np\n",
    "import matplotlib.pyplot as plt"
   ],
   "id": "a51e86285d64bd58",
   "outputs": [],
   "execution_count": 13
  },
  {
   "metadata": {
    "ExecuteTime": {
     "end_time": "2025-07-08T04:44:47.257248Z",
     "start_time": "2025-07-08T04:44:47.253314Z"
    }
   },
   "cell_type": "code",
   "source": [
    "np.random.seed(0)\n",
    "mu_m = 1.71\n",
    "sigma_m = 0.056\n",
    "num_m = 100000\n",
    "rand_data_m = np.random.normal(mu_m, sigma_m, num_m)\n",
    "y_m = np.ones(num_m)"
   ],
   "id": "476054bfb0d2df49",
   "outputs": [],
   "execution_count": 14
  },
  {
   "metadata": {
    "ExecuteTime": {
     "end_time": "2025-07-08T04:44:47.272801Z",
     "start_time": "2025-07-08T04:44:47.267897Z"
    }
   },
   "cell_type": "code",
   "source": [
    "np.random.seed(0)\n",
    "nu_w = 1.58\n",
    "sigma_w = 0.051\n",
    "num_w = 100000\n",
    "rand_data_w = np.random.normal(nu_w, sigma_w, num_w)\n",
    "y_w = np.zeros(num_w)\n",
    "rand_data_w"
   ],
   "id": "e4922d438f293b9a",
   "outputs": [
    {
     "data": {
      "text/plain": [
       "array([1.66996667, 1.60040802, 1.62991564, ..., 1.61703528, 1.52044064,\n",
       "       1.51445441])"
      ]
     },
     "execution_count": 15,
     "metadata": {},
     "output_type": "execute_result"
    }
   ],
   "execution_count": 15
  },
  {
   "metadata": {
    "ExecuteTime": {
     "end_time": "2025-07-08T04:44:47.294359Z",
     "start_time": "2025-07-08T04:44:47.290466Z"
    }
   },
   "cell_type": "code",
   "source": [
    "data = np.append(rand_data_m, rand_data_w)\n",
    "data = data.reshape(-1, 1)\n",
    "y = np.append(y_m, y_w)\n",
    "print(data)\n",
    "print(y)"
   ],
   "id": "82a10330bce1fd8c",
   "outputs": [
    {
     "name": "stdout",
     "output_type": "stream",
     "text": [
      "[[1.80878693]\n",
      " [1.7324088 ]\n",
      " [1.76480933]\n",
      " ...\n",
      " [1.61703528]\n",
      " [1.52044064]\n",
      " [1.51445441]]\n",
      "[1. 1. 1. ... 0. 0. 0.]\n"
     ]
    }
   ],
   "execution_count": 16
  },
  {
   "metadata": {
    "ExecuteTime": {
     "end_time": "2025-07-08T04:45:37.161182Z",
     "start_time": "2025-07-08T04:45:36.331419Z"
    }
   },
   "cell_type": "code",
   "source": [
    "from sklearn.mixture import GaussianMixture\n",
    "g = GaussianMixture(n_components=2, random_state=0,tol=1e-3,max_iter=1000)\n",
    "g.fit(data)\n",
    "print(g.means_)\n",
    "print(g.covariances_)\n",
    "print(g.weights_)"
   ],
   "id": "8fe65b613678f6d2",
   "outputs": [
    {
     "name": "stdout",
     "output_type": "stream",
     "text": [
      "[[1.58168229]\n",
      " [1.71356861]]\n",
      "[[[0.00261101]]\n",
      "\n",
      " [[0.00287461]]]\n",
      "[0.51926735 0.48073265]\n"
     ]
    }
   ],
   "execution_count": 18
  },
  {
   "metadata": {
    "ExecuteTime": {
     "end_time": "2025-07-08T04:46:23.448719Z",
     "start_time": "2025-07-08T04:46:23.397372Z"
    }
   },
   "cell_type": "code",
   "source": [
    "from sklearn.metrics import accuracy_score\n",
    "y_hat = g.predict(data)\n",
    "print(accuracy_score(y, y_hat))"
   ],
   "id": "bf6fe0d664efe26b",
   "outputs": [
    {
     "name": "stdout",
     "output_type": "stream",
     "text": [
      "0.888835\n"
     ]
    }
   ],
   "execution_count": 19
  }
 ],
 "metadata": {
  "kernelspec": {
   "display_name": "Python 3",
   "language": "python",
   "name": "python3"
  },
  "language_info": {
   "codemirror_mode": {
    "name": "ipython",
    "version": 2
   },
   "file_extension": ".py",
   "mimetype": "text/x-python",
   "name": "python",
   "nbconvert_exporter": "python",
   "pygments_lexer": "ipython2",
   "version": "2.7.6"
  }
 },
 "nbformat": 4,
 "nbformat_minor": 5
}
