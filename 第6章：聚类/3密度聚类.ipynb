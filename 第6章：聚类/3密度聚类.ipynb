{
 "cells": [
  {
   "cell_type": "code",
   "id": "initial_id",
   "metadata": {
    "collapsed": true,
    "ExecuteTime": {
     "end_time": "2025-07-07T16:43:39.080284Z",
     "start_time": "2025-07-07T16:43:39.077923Z"
    }
   },
   "source": [
    ""
   ],
   "outputs": [],
   "execution_count": null
  },
  {
   "metadata": {},
   "cell_type": "markdown",
   "source": [
    "# 密度聚类（Density-Based Clustering, DBSCAN）详解\n",
    "\n",
    "密度聚类是一种**基于样本密度**的无监督学习算法，可以识别**任意形状的簇**，并且能够自然识别噪声点。\n",
    "\n",
    "最具代表性的算法是 **DBSCAN（Density-Based Spatial Clustering of Applications with Noise）**。\n",
    "\n",
    "---\n",
    "\n",
    "## 一、核心思想\n",
    "\n",
    "**高密度区域**被视为簇，不同簇由低密度区域分隔。\n",
    "DBSCAN通过以下两个参数定义密度：\n",
    "\n",
    "- **$\\varepsilon$ (Epsilon, 半径邻域)**：指定点的邻域范围。\n",
    "- **MinPts (最小样本数)**：在半径$\\varepsilon$内，形成核心点的最小样本数量。\n",
    "\n",
    "---\n",
    "\n",
    "## 二、关键定义\n",
    "\n",
    "1. **$\\varepsilon$邻域（Epsilon Neighborhood）**：\n",
    "   给定点 $p$，其$\\varepsilon$邻域为：\n",
    "   $$\n",
    "   N_\\varepsilon(p) = \\{ q \\in D \\mid \\text{dist}(p,q) \\leq \\varepsilon \\}\n",
    "   $$\n",
    "\n",
    "2. **核心点（Core Point）**：\n",
    "   如果 $|N_\\varepsilon(p)| \\geq \\text{MinPts}$，则 $p$为核心点。\n",
    "\n",
    "3. **直接密度可达（Directly Density-Reachable）**：\n",
    "   点$q$在$p$的$\\varepsilon$邻域内，且$p$是核心点，则$q$直接密度可达$p$。\n",
    "\n",
    "4. **密度可达（Density-Reachable）**：\n",
    "   存在一个点序列 $p_1, p_2, \\ldots, p_n$，满足：\n",
    "   - $p_1 = p$\n",
    "   - $p_n = q$\n",
    "   - $\\forall i: p_{i+1}$直接密度可达$p_i$\n",
    "\n",
    "5. **密度相连（Density-Connected）**：\n",
    "   存在点$o$，使得$p$和$q$都密度可达$o$。\n",
    "\n",
    "6. **噪声点（Noise）**：\n",
    "   不属于任何簇的点。\n",
    "\n",
    "---\n",
    "\n",
    "## 三、算法流程\n",
    "\n",
    "**DBSCAN的主要步骤：**\n",
    "\n",
    "1. 从任意一个未访问过的点$p$开始：\n",
    "   - 如果$p$是核心点：\n",
    "     - 创建新簇。\n",
    "     - 递归扩展所有密度可达的点。\n",
    "   - 如果$p$不是核心点：\n",
    "     - 将$p$标记为噪声（之后也可能被其他点归入簇）。\n",
    "2. 重复以上过程，直到所有点都被标记（簇或噪声）。\n",
    "\n",
    "---\n",
    "\n",
    "## 四、优缺点\n",
    "\n",
    "### 优点：\n",
    "- 能发现任意形状的簇；\n",
    "- 对噪声鲁棒；\n",
    "- 不需要提前指定簇的数量。\n",
    "\n",
    "### 缺点：\n",
    "- 对参数$\\varepsilon$和MinPts较为敏感；\n",
    "- 高维数据中距离度量失效（维度灾难）；\n",
    "- 不适用于簇密度差异较大的数据。\n",
    "\n",
    "---\n",
    "\n",
    "## 五、DBSCAN与其他聚类方法比较\n",
    "\n",
    "| 特性               | DBSCAN                   | K-Means                | 层次聚类             |\n",
    "|--------------------|--------------------------|------------------------|----------------------|\n",
    "| 簇形状             | 任意形状                 | 仅适合球状             | 任意形状             |\n",
    "| 噪声识别           | 可识别噪声               | 无法识别               | 部分可识别           |\n",
    "| 聚类数量           | 自动推断                 | 必须指定               | 可通过剪枝确定       |\n",
    "| 对参数敏感性       | 高                       | 中等                   | 中等                 |\n",
    "| 计算复杂度         | 中等（$O(n \\log n)$）    | 低                     | 高                   |\n",
    "\n",
    "---\n",
    "\n",
    "## 六、Python 示例（使用Scikit-learn）\n",
    "\n",
    "```python\n",
    "import numpy as np\n",
    "from sklearn.datasets import make_moons\n",
    "from sklearn.cluster import DBSCAN\n",
    "import matplotlib.pyplot as plt\n",
    "\n",
    "# 生成数据\n",
    "X, y = make_moons(n_samples=300, noise=0.05, random_state=42)\n",
    "\n",
    "# DBSCAN聚类\n",
    "dbscan = DBSCAN(eps=0.2, min_samples=5)\n",
    "labels = dbscan.fit_predict(X)\n",
    "\n",
    "# 绘图\n",
    "plt.figure(figsize=(8,6))\n",
    "plt.scatter(X[:,0], X[:,1], c=labels, cmap='rainbow', s=30)\n",
    "plt.title(\"DBSCAN Clustering Result\")\n",
    "plt.xlabel(\"Feature 1\")\n",
    "plt.ylabel(\"Feature 2\")\n",
    "plt.show()\n",
    "```\n",
    "\n",
    "---\n",
    "\n",
    "## 七、参数选择技巧\n",
    "\n",
    "1. **MinPts**：\n",
    "   - 通常 ≥ 维数 + 1；\n",
    "   - 常用默认值：4或5。\n",
    "\n",
    "2. **$\\varepsilon$**：\n",
    "   - 可使用**k距离图（k-distance graph）**辅助选择：\n",
    "     - 对每个点计算到其第k近邻的距离；\n",
    "     - 按距离升序排序；\n",
    "     - 选取“拐点”处作为$\\varepsilon$。\n",
    "\n",
    "---\n",
    "\n",
    "## 八、总结\n",
    "\n",
    "DBSCAN是密度聚类中最具代表性的算法，适用于发现复杂形状簇并自动识别噪声。对于密度均匀、低维数据聚类任务，DBSCAN往往表现优越。\n",
    "\n",
    "---"
   ],
   "id": "2f05b009c8bcdd35"
  },
  {
   "metadata": {
    "ExecuteTime": {
     "end_time": "2025-07-07T16:43:39.088717Z",
     "start_time": "2025-07-07T16:43:39.086296Z"
    }
   },
   "cell_type": "code",
   "source": [
    "import matplotlib.pyplot as plt\n",
    "import matplotlib as mpl\n",
    "import scipy.io\n",
    "import numpy as np\n",
    "from sklearn.cluster import DBSCAN"
   ],
   "id": "37cb1c88226a51a7",
   "outputs": [],
   "execution_count": 4
  },
  {
   "metadata": {
    "ExecuteTime": {
     "end_time": "2025-07-07T16:43:39.101724Z",
     "start_time": "2025-07-07T16:43:39.099246Z"
    }
   },
   "cell_type": "code",
   "source": [
    "def loaddata():\n",
    "    data = np.loadtxt(\"data/cluster_data.csv\",delimiter=\",\")\n",
    "    return  data\n",
    "X = loaddata()"
   ],
   "id": "23bbd9bcd042dcd5",
   "outputs": [],
   "execution_count": 5
  },
  {
   "metadata": {
    "ExecuteTime": {
     "end_time": "2025-07-07T16:43:39.126317Z",
     "start_time": "2025-07-07T16:43:39.116322Z"
    }
   },
   "cell_type": "code",
   "source": [
    "model = DBSCAN(eps=0.5, min_samples=5,metric='euclidean')\n",
    "model.fit(X)\n",
    "labels = model.labels_\n",
    "labels"
   ],
   "id": "191d7a2444c47a27",
   "outputs": [
    {
     "data": {
      "text/plain": [
       "array([ 0, -1,  1,  0,  0,  0,  0,  0,  0,  0,  0,  0,  0,  0,  0,  0, -1,\n",
       "        0,  0,  0,  0,  0,  0,  0,  0,  0,  0,  0,  0,  0,  0,  0,  0,  0,\n",
       "        0,  0,  0,  0,  0,  0,  0,  0,  0,  0,  0,  0,  0, -1,  0,  0,  0,\n",
       "        0,  0,  0,  0,  0,  0,  0,  0,  0,  0,  0,  0,  0,  0,  0,  0, -1,\n",
       "        0,  0,  0,  0,  0,  0,  0,  0,  0,  0,  0,  0,  0,  0,  0,  0, -1,\n",
       "        0,  0,  0,  0,  0,  0,  0,  0,  0,  0, -1,  0,  0,  0,  0,  2,  2,\n",
       "        2,  2,  2,  2,  2,  2,  2,  2,  2,  2,  2,  2,  2,  2,  2,  2,  2,\n",
       "        2,  2,  2,  2,  2,  2,  2,  2,  2,  2,  2,  2,  2,  2,  2,  2,  2,\n",
       "        2,  2,  2,  2,  2,  2,  2,  2,  2,  2,  2,  2,  2,  2,  2,  2,  2,\n",
       "        2,  2,  2,  2,  2,  2,  2,  2,  2,  2,  2,  2,  2,  2,  2,  2,  2,\n",
       "        2,  2,  2,  2,  2,  2,  2,  2,  2,  2,  2,  2,  2,  2,  2,  2,  2,\n",
       "        2,  2,  2,  2,  2,  2,  2,  2,  2, -1,  2, -1,  2,  1,  1,  1,  1,\n",
       "        1,  1,  1,  1,  1,  1,  1,  1,  1,  1,  1,  1,  1,  1,  1,  1,  1,\n",
       "        1,  1,  1,  1,  1,  1,  1,  1,  1,  1,  1,  1,  1,  1,  1,  1,  1,\n",
       "        1,  1,  1,  1,  1,  1,  1,  1,  1,  1,  1,  1,  1,  1,  1,  1,  1,\n",
       "        1,  1,  1,  1,  1,  1,  1,  1,  1,  1, -1, -1,  1,  1,  1,  1,  1,\n",
       "        1,  1,  1,  1,  1,  1,  1, -1,  1,  1,  1,  1,  1,  1,  1,  1,  1,\n",
       "        1,  1,  1,  1,  1,  1,  1,  1,  1,  1,  0])"
      ]
     },
     "execution_count": 6,
     "metadata": {},
     "output_type": "execute_result"
    }
   ],
   "execution_count": 6
  },
  {
   "metadata": {
    "ExecuteTime": {
     "end_time": "2025-07-07T16:44:18.733675Z",
     "start_time": "2025-07-07T16:44:18.564600Z"
    }
   },
   "cell_type": "code",
   "source": [
    "cm_dark = mpl.colors.ListedColormap(['#ff6060', '#ff80ff', '#9afeff', '#40e0d0', '#00ffff'])\n",
    "plt.scatter(X[:, 0], X[:, 1], c=model.labels_, s=10, cmap=cm_dark)\n",
    "plt.show"
   ],
   "id": "ee9fd2f426bded7b",
   "outputs": [
    {
     "data": {
      "text/plain": [
       "<function matplotlib.pyplot.show(close=None, block=None)>"
      ]
     },
     "execution_count": 7,
     "metadata": {},
     "output_type": "execute_result"
    },
    {
     "data": {
      "text/plain": [
       "<Figure size 640x480 with 1 Axes>"
      ],
      "image/png": "[encoded data removed]"
     },
     "metadata": {},
     "output_type": "display_data"
    }
   ],
   "execution_count": 7
  },
  {
   "metadata": {},
   "cell_type": "code",
   "outputs": [],
   "execution_count": null,
   "source": "",
   "id": "1df83b780f270f92"
  }
 ],
 "metadata": {
  "kernelspec": {
   "display_name": "Python 3",
   "language": "python",
   "name": "python3"
  },
  "language_info": {
   "codemirror_mode": {
    "name": "ipython",
    "version": 2
   },
   "file_extension": ".py",
   "mimetype": "text/x-python",
   "name": "python",
   "nbconvert_exporter": "python",
   "pygments_lexer": "ipython2",
   "version": "2.7.6"
  }
 },
 "nbformat": 4,
 "nbformat_minor": 5
}
