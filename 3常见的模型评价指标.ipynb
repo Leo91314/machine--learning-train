{
 "cells": [
  {
   "metadata": {},
   "cell_type": "markdown",
   "source": [
    "/均方误差\n",
    "$$ \\text{MSE} = \\frac{1}{n} \\sum_{i=1}^{n} (y_{\\text{true},i} - y_{\\text{pre},i})^2 $$"
   ],
   "id": "d6ccb287e1140386"
  },
  {
   "metadata": {
    "ExecuteTime": {
     "end_time": "2025-06-15T12:16:25.258719Z",
     "start_time": "2025-06-15T12:16:25.128402Z"
    }
   },
   "cell_type": "code",
   "source": [
    "import numpy as np\n",
    "\n",
    "y_true = np.array([1,2,3,4,5])\n",
    "y_pre = np.array([1.1,2.2,3.1,4.1,5.2])"
   ],
   "id": "7f4ac33bfdc68e2",
   "outputs": [],
   "execution_count": 1
  },
  {
   "metadata": {
    "ExecuteTime": {
     "end_time": "2025-06-15T12:16:25.320147Z",
     "start_time": "2025-06-15T12:16:25.281239Z"
    }
   },
   "cell_type": "code",
   "source": [
    "def mse(y_true,y_pre):\n",
    "    return np.mean(np.square(y_true-y_pre))\n",
    "mse(y_true,y_pre)"
   ],
   "id": "3f9f5c1ce5ea1b70",
   "outputs": [
    {
     "data": {
      "text/plain": [
       "0.02200000000000002"
      ]
     },
     "execution_count": 2,
     "metadata": {},
     "output_type": "execute_result"
    }
   ],
   "execution_count": 2
  },
  {
   "metadata": {},
   "cell_type": "markdown",
   "source": [
    "均方根误差\n",
    "$$ \\text{RMSE} = \\sqrt{\\text{MSE}} = \\sqrt{\\frac{1}{n} \\sum_{i=1}^{n} (y_{\\text{true},i} - y_{\\text{pre},i})^2} $$"
   ],
   "id": "cf804df1155cd7fc"
  },
  {
   "metadata": {
    "ExecuteTime": {
     "end_time": "2025-06-15T12:17:21.151094Z",
     "start_time": "2025-06-15T12:17:21.147380Z"
    }
   },
   "cell_type": "code",
   "source": [
    "def rmse(y_true,y_pre):\n",
    "    return np.sqrt(mse(y_true,y_pre))\n",
    "rmse(y_true,y_pre)"
   ],
   "id": "b183fa298ae411e0",
   "outputs": [
    {
     "data": {
      "text/plain": [
       "0.14832396974191334"
      ]
     },
     "execution_count": 3,
     "metadata": {},
     "output_type": "execute_result"
    }
   ],
   "execution_count": 3
  },
  {
   "metadata": {},
   "cell_type": "code",
   "outputs": [],
   "execution_count": null,
   "source": "",
   "id": "892c3354de282a36"
  },
  {
   "metadata": {},
   "cell_type": "markdown",
   "source": [
    "3. 平均绝对误差（MAE）\n",
    "$$ \\text{MAE} = \\frac{1}{n} \\sum_{i=1}^{n} |y_{\\text{true},i} - y_{\\text{pre},i}| $$"
   ],
   "id": "93997f5ad1babdce"
  },
  {
   "metadata": {},
   "cell_type": "code",
   "outputs": [],
   "execution_count": null,
   "source": [
    "def mae(y_true,y_pre):#绝对误差\n",
    "    return np.mean(np.abs(y_true-y_pre))\n"
   ],
   "id": "4d5db3625ac56288"
  }
 ],
 "metadata": {
  "kernelspec": {
   "display_name": "Python 3",
   "language": "python",
   "name": "python3"
  },
  "language_info": {
   "codemirror_mode": {
    "name": "ipython",
    "version": 2
   },
   "file_extension": ".py",
   "mimetype": "text/x-python",
   "name": "python",
   "nbconvert_exporter": "python",
   "pygments_lexer": "ipython2",
   "version": "2.7.6"
  }
 },
 "nbformat": 4,
 "nbformat_minor": 5
}
