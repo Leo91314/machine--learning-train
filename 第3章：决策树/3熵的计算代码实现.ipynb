{
 "cells": [
  {
   "metadata": {},
   "cell_type": "markdown",
   "source": "",
   "id": "7f6d762611fe4fcb"
  },
  {
   "metadata": {
    "ExecuteTime": {
     "end_time": "2025-06-22T10:57:39.859163Z",
     "start_time": "2025-06-22T10:57:39.854270Z"
    }
   },
   "cell_type": "code",
   "source": [
    "import numpy as np\n",
    "import pandas as pd\n",
    "import matplotlib.pyplot as plt\n",
    "import operator"
   ],
   "id": "ce5f4dd813ac56e9",
   "outputs": [],
   "execution_count": 38
  },
  {
   "metadata": {
    "ExecuteTime": {
     "end_time": "2025-06-22T10:57:39.874127Z",
     "start_time": "2025-06-22T10:57:39.868801Z"
    }
   },
   "cell_type": "code",
   "source": [
    "def loaddata():\n",
    "    dataSet = [[0, 0,0,0, 'no'],\n",
    "               [0, 0,0,1,'no'],\n",
    "               [0, 1,0,1, 'yes'],\n",
    "               [0, 1,1,0, 'yes'],\n",
    "               [0, 0,0,0, 'no'],\n",
    "               [1, 0,0,0, 'no'],\n",
    "               [1, 0,0,1, 'no'],\n",
    "               [1, 1,1,1, 'yes'],\n",
    "               [1, 0,1,2, 'yes'],\n",
    "               [1, 0,1,2, 'yes'],\n",
    "               [2, 0,1,2, 'yes'],\n",
    "               [2, 0,1,1, 'yes'],\n",
    "               [2, 1,0,1, 'yes'],\n",
    "               [2, 1,0,2, 'yes'],\n",
    "               [2, 0,0,0,'no']]\n",
    "    feature_name = ['age','job','house','credit']\n",
    "    return dataSet, feature_name"
   ],
   "id": "446b00b51595d82a",
   "outputs": [],
   "execution_count": 39
  },
  {
   "metadata": {},
   "cell_type": "markdown",
   "source": [
    "### 计算数据集的熵\n",
    "\n",
    "<img src=\"images/02.png\" width=\"200\" align=\"left\"/>"
   ],
   "id": "ba7c9d896915df0a"
  },
  {
   "metadata": {
    "ExecuteTime": {
     "end_time": "2025-06-22T10:57:39.884410Z",
     "start_time": "2025-06-22T10:57:39.880766Z"
    }
   },
   "cell_type": "code",
   "source": [
    "def entropy(dataSet):\n",
    "    #数据集条数\n",
    "    n = len(dataSet)\n",
    "    LabelCounts =  {}\n",
    "    for i in range(n):\n",
    "        label = dataSet[i][-1]\n",
    "        if label not in LabelCounts.keys():\n",
    "            LabelCounts[label] = 0\n",
    "        LabelCounts[label] += 1\n",
    "\n",
    "    #计算熵\n",
    "    entropy = 0.0\n",
    "    for key in LabelCounts:\n",
    "        prob = float(LabelCounts[key])/n\n",
    "        entropy -= prob * np.log2(prob)\n",
    "    return  entropy"
   ],
   "id": "d434fca6bff21cd8",
   "outputs": [],
   "execution_count": 40
  },
  {
   "metadata": {},
   "cell_type": "markdown",
   "source": "# 划分数据集",
   "id": "69839ced2f81e213"
  },
  {
   "metadata": {
    "ExecuteTime": {
     "end_time": "2025-06-22T10:57:39.893270Z",
     "start_time": "2025-06-22T10:57:39.890722Z"
    }
   },
   "cell_type": "code",
   "source": [
    "def splitDataSet(dataSet, axis, value):\n",
    "    retDataSet = []\n",
    "    for featVec in dataSet:\n",
    "        if featVec[axis] == value:\n",
    "            reducedFeatVec = featVec[:axis]\n",
    "            reducedFeatVec.extend(featVec[axis+1:])\n",
    "            retDataSet.append(reducedFeatVec)\n",
    "    return retDataSet"
   ],
   "id": "e9a7ca169031755f",
   "outputs": [],
   "execution_count": 41
  },
  {
   "metadata": {},
   "cell_type": "markdown",
   "source": "# 测试",
   "id": "ef15b692df96836f"
  },
  {
   "metadata": {
    "ExecuteTime": {
     "end_time": "2025-06-22T10:57:39.902750Z",
     "start_time": "2025-06-22T10:57:39.899692Z"
    }
   },
   "cell_type": "code",
   "source": [
    "dataSet, feature_name = loaddata()\n",
    "splitDataSet(dataSet, 0, 0)\n"
   ],
   "id": "1beb0b2acf3b704b",
   "outputs": [
    {
     "data": {
      "text/plain": [
       "[[0, 0, 0, 'no'],\n",
       " [0, 0, 1, 'no'],\n",
       " [1, 0, 1, 'yes'],\n",
       " [1, 1, 0, 'yes'],\n",
       " [0, 0, 0, 'no']]"
      ]
     },
     "execution_count": 42,
     "metadata": {},
     "output_type": "execute_result"
    }
   ],
   "execution_count": 42
  },
  {
   "metadata": {},
   "cell_type": "markdown",
   "source": [
    "### 选择最好的特征\n",
    "<img src=\"images/03.png\" width=\"400\" align=\"left\"/>"
   ],
   "id": "a3e537a5b0f7b04a"
  },
  {
   "metadata": {
    "ExecuteTime": {
     "end_time": "2025-06-22T10:57:39.914460Z",
     "start_time": "2025-06-22T10:57:39.912219Z"
    }
   },
   "cell_type": "code",
   "source": [
    "# 计算信息增益\n",
    "def chooseBestFeature(dataSet):\n",
    "    numFeatures = len(dataSet[0]) - 1\n",
    "    baseEntropy = entropy(dataSet)\n",
    "    bestInfoGain = 0.0\n",
    "    bestFeature = -1\n",
    "    for i in range(numFeatures):\n",
    "        featList = [example[i] for example in dataSet]\n",
    "\n",
    "        uniqueVals = set(featList)\n",
    "        newEntropy = 0.0\n",
    "        for value in uniqueVals:\n",
    "            subDataSet = splitDataSet(dataSet, i, value)\n",
    "            prob = len(subDataSet)/float(len(dataSet))\n",
    "            newEntropy += prob * entropy(subDataSet)\n",
    "        infoGain = baseEntropy - newEntropy\n",
    "        if (infoGain > bestInfoGain):\n",
    "            bestInfoGain = infoGain\n",
    "            bestFeature = i\n",
    "    return bestFeature\n"
   ],
   "id": "a8aa1f62628967e5",
   "outputs": [],
   "execution_count": 43
  },
  {
   "metadata": {},
   "cell_type": "markdown",
   "source": "# 测试",
   "id": "a0fc331f690cc99b"
  },
  {
   "metadata": {
    "ExecuteTime": {
     "end_time": "2025-06-22T10:57:39.925382Z",
     "start_time": "2025-06-22T10:57:39.921958Z"
    }
   },
   "cell_type": "code",
   "source": "chooseBestFeature(dataSet)",
   "id": "b9c6c5f8aa95254a",
   "outputs": [
    {
     "data": {
      "text/plain": [
       "2"
      ]
     },
     "execution_count": 44,
     "metadata": {},
     "output_type": "execute_result"
    }
   ],
   "execution_count": 44
  },
  {
   "metadata": {},
   "cell_type": "markdown",
   "source": "# 类别的投标表决",
   "id": "5071e41fcc590047"
  },
  {
   "metadata": {
    "ExecuteTime": {
     "end_time": "2025-06-22T10:57:39.937356Z",
     "start_time": "2025-06-22T10:57:39.934982Z"
    }
   },
   "cell_type": "code",
   "source": [
    "def classVotes(dataSet):\n",
    "    #定义一个类别计数器，键为类别，值为类别的个数，寻找出出现次数最多的类别\n",
    "    classCount = {}\n",
    "    for vec in dataSet:\n",
    "        label = vec[-1]\n",
    "        if label not in classCount.keys():\n",
    "            classCount[label] = 0\n",
    "        classCount[label] += 1\n",
    "    sortedClassCount = sorted(classCount.items(), key=operator.itemgetter(1), reverse=True)#降序（itermgetter用法）\n",
    "    return sortedClassCount[0][0]"
   ],
   "id": "c9aef4fe00d12fe8",
   "outputs": [],
   "execution_count": 45
  },
  {
   "metadata": {},
   "cell_type": "markdown",
   "source": "# 递归训练一棵树",
   "id": "2b0c55b483c15937"
  },
  {
   "metadata": {
    "ExecuteTime": {
     "end_time": "2025-06-22T10:57:39.945990Z",
     "start_time": "2025-06-22T10:57:39.943399Z"
    }
   },
   "cell_type": "code",
   "source": [
    "def createTree(dataSet, feature_name):\n",
    "    classList = [example[-1] for example in dataSet]\n",
    "    if classList.count(classList[0]) == len(classList):\n",
    "        return classList[0]\n",
    "    if len(dataSet[0]) == 1:\n",
    "        return classVotes(dataSet)\n",
    "    bestFeat = chooseBestFeature(dataSet)\n",
    "    bestFeatName = feature_name[bestFeat]\n",
    "    myTree = {bestFeatName:{}}\n",
    "    featValues = [example[bestFeat] for example in dataSet]\n",
    "    uniqueVals = set(featValues)\n",
    "    for value in uniqueVals:\n",
    "        subLabels = feature_name[:]\n",
    "        myTree[bestFeatName][value] = createTree(splitDataSet(dataSet, bestFeat, value), subLabels)\n",
    "    return myTree"
   ],
   "id": "bbfcb6bc537ce604",
   "outputs": [],
   "execution_count": 46
  },
  {
   "metadata": {
    "ExecuteTime": {
     "end_time": "2025-06-22T10:57:39.955368Z",
     "start_time": "2025-06-22T10:57:39.953101Z"
    }
   },
   "cell_type": "code",
   "source": [
    "myDat, feature_name = loaddata()\n",
    "myTree = createTree(myDat, feature_name)\n",
    "print(myTree)"
   ],
   "id": "cc632797586949e2",
   "outputs": [
    {
     "name": "stdout",
     "output_type": "stream",
     "text": [
      "{'house': {0: {'job': {0: 'no', 1: 'yes'}}, 1: 'yes'}}\n"
     ]
    }
   ],
   "execution_count": 47
  },
  {
   "metadata": {},
   "cell_type": "markdown",
   "source": "# 预测",
   "id": "177aa0f0249f2531"
  },
  {
   "metadata": {
    "ExecuteTime": {
     "end_time": "2025-06-22T11:05:04.292050Z",
     "start_time": "2025-06-22T11:05:04.287580Z"
    }
   },
   "cell_type": "code",
   "source": [
    "def predict(inputTree,featLabels,testVec):#输入树，特征标签，测试向量\n",
    "    print('inputTree.keys()=', inputTree.keys())\n",
    "\n",
    "    firstStr = list(inputTree.keys())[0]\n",
    "    print('firstStr=', firstStr)\n",
    "    secondDict = inputTree[firstStr]\n",
    "    print('secondDict=', secondDict)\n",
    "    featIndex = featLabels.index(firstStr)\n",
    "    print('featIndex=', featIndex)\n",
    "    key = testVec[featIndex]\n",
    "    print('key=', key)\n",
    "    valueOfFeat = secondDict[key]\n",
    "    print('-'*20)\n",
    "    if isinstance(valueOfFeat, dict):\n",
    "        classLabel = predict(valueOfFeat, featLabels, testVec)\n",
    "    else: classLabel = valueOfFeat\n",
    "    return classLabel"
   ],
   "id": "c2bb3b46fc4ae777",
   "outputs": [],
   "execution_count": 50
  },
  {
   "metadata": {
    "ExecuteTime": {
     "end_time": "2025-06-22T11:05:06.212328Z",
     "start_time": "2025-06-22T11:05:06.209011Z"
    }
   },
   "cell_type": "code",
   "source": "print(predict(myTree, feature_name, [1,1,0,1]))",
   "id": "84a3bad820c34f9a",
   "outputs": [
    {
     "name": "stdout",
     "output_type": "stream",
     "text": [
      "inputTree.keys()= dict_keys(['house'])\n",
      "firstStr= house\n",
      "secondDict= {0: {'job': {0: 'no', 1: 'yes'}}, 1: 'yes'}\n",
      "featIndex= 2\n",
      "key= 0\n",
      "--------------------\n",
      "inputTree.keys()= dict_keys(['job'])\n",
      "firstStr= job\n",
      "secondDict= {0: 'no', 1: 'yes'}\n",
      "featIndex= 1\n",
      "key= 1\n",
      "--------------------\n",
      "yes\n"
     ]
    }
   ],
   "execution_count": 51
  }
 ],
 "metadata": {
  "kernelspec": {
   "display_name": "Python 3",
   "language": "python",
   "name": "python3"
  },
  "language_info": {
   "codemirror_mode": {
    "name": "ipython",
    "version": 2
   },
   "file_extension": ".py",
   "mimetype": "text/x-python",
   "name": "python",
   "nbconvert_exporter": "python",
   "pygments_lexer": "ipython2",
   "version": "2.7.6"
  }
 },
 "nbformat": 4,
 "nbformat_minor": 5
}
