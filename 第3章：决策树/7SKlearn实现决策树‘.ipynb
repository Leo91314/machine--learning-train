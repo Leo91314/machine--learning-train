{
 "cells": [
  {
   "cell_type": "code",
   "id": "initial_id",
   "metadata": {
    "collapsed": true,
    "ExecuteTime": {
     "end_time": "2025-06-24T16:44:25.696123Z",
     "start_time": "2025-06-24T16:44:25.199787Z"
    }
   },
   "source": [
    "import numbers\n",
    "from pyexpat import features\n",
    "\n",
    "import numpy as np\n",
    "import pandas as pd\n",
    "import sklearn.tree\n",
    "from sklearn.tree import export_graphviz\n",
    "import graphviz"
   ],
   "outputs": [],
   "execution_count": 3
  },
  {
   "metadata": {},
   "cell_type": "code",
   "outputs": [],
   "execution_count": null,
   "source": [
    "def loaddata():\n",
    "    dataSet = [[0, 0,0,0, 'no'],\n",
    "               [0, 0,0,1,'no'],\n",
    "               [0, 1,0,1, 'yes'],\n",
    "               [0, 1,1,0, 'yes'],\n",
    "               [0, 0,0,0, 'no'],\n",
    "               [1, 0,0,0, 'no'],\n",
    "               [1, 0,0,1, 'no'],\n",
    "               [1, 1,1,1, 'yes'],\n",
    "               [1, 0,1,2, 'yes'],\n",
    "               [1, 0,1,2, 'yes'],\n",
    "               [2, 0,1,2, 'yes'],\n",
    "               [2, 0,1,1, 'yes'],\n",
    "               [2, 1,0,1, 'yes'],\n",
    "               [2, 1,0,2, 'yes'],\n",
    "               [2, 0,0,0,'no']]\n",
    "    feature_name = ['age','job','house','credit']\n",
    "    return dataSet, feature_name"
   ],
   "id": "4daf31e476106efa"
  },
  {
   "metadata": {
    "ExecuteTime": {
     "end_time": "2025-06-24T16:44:25.721107Z",
     "start_time": "2025-06-24T16:44:25.715108Z"
    }
   },
   "cell_type": "code",
   "source": [
    "myDat,feature_name = loaddata()\n",
    "X = np.array(myDat)[:,0:4]\n",
    "y = np.array(myDat)[:,-1]\n",
    "model = sklearn.tree.DecisionTreeClassifier()\n",
    "model.fit(X,y)\n",
    "print(model.predict([[2,1,1,2]]))"
   ],
   "id": "282df4abb3199654",
   "outputs": [
    {
     "name": "stdout",
     "output_type": "stream",
     "text": [
      "['yes']\n"
     ]
    }
   ],
   "execution_count": 5
  },
  {
   "metadata": {},
   "cell_type": "markdown",
   "source": [
    "Sklearn中实现的决策树都是二叉树\n",
    "\n",
    "DecisionTreeClassifier的常用参数含义：\n",
    "- criterion：‘gini’ or ‘entropy’ (default=”gini”)，前者是基尼系数，后者是信息熵。\n",
    "- max_depth：决策树最大深度。常用来解决过拟合。\n",
    "- min_impurity_decrease：这个值限制了决策树的增长，如果某节点的不纯度(基尼系数，信息增益)小于这个阈值，则该节点不再生成子节点。\n",
    "- min_samples_split：如果是 int，则取传入值本身作为最小样本数； 如果是 float，则用 ceil(min_samples_split * 样本数量) 的值作为最小样本数，即向上取整。\n",
    "- min_samples_leaf：如果是 int，则取传入值本身作为最小样本数； 如果是 float，则去 ceil(min_samples_leaf * 样本数量) 的值作为最小样本数，即向上取整。 这个值限制了叶子节点最少的样本数，如果某叶子节点数目小于样本数，则会和兄弟节点一起被剪枝。\n",
    "- max_leaf_nodes：最大叶子节点数。如果特征不多，可以不考虑这个值，但是如果特征分成多的话，可以加以限制，具体的值可以通过交叉验证得到。\n",
    "- min_impurity_split：决策树在创建分支时，信息增益（基尼系数）必须大于这个阀值，否则不分裂"
   ],
   "id": "e1d7e92b5d1f1f0a"
  },
  {
   "metadata": {
    "ExecuteTime": {
     "end_time": "2025-06-24T16:53:05.614255Z",
     "start_time": "2025-06-24T16:53:05.603360Z"
    }
   },
   "cell_type": "code",
   "source": [
    "export_graphviz(\n",
    "    model,\n",
    "    out_file=\"tree.dot\",\n",
    "    feature_names=feature_name,\n",
    "    class_names=model.classes_,\n",
    "    rounded=True,\n",
    "    filled=True\n",
    ")"
   ],
   "id": "257d12d948f495a2",
   "outputs": [],
   "execution_count": 6
  },
  {
   "metadata": {
    "ExecuteTime": {
     "end_time": "2025-06-24T17:12:05.076174Z",
     "start_time": "2025-06-24T17:12:04.036331Z"
    }
   },
   "cell_type": "code",
   "source": [
    "with open(\"/Users/liminghao/machine-learning practice/第3章：决策树/tree.dot\") as f:\n",
    "    dot_graph = f.read()\n",
    "dot = graphviz.Source(dot_graph)\n",
    "dot.view ()"
   ],
   "id": "a66662dd0dbc5725",
   "outputs": [
    {
     "data": {
      "text/plain": [
       "'Source.gv.pdf'"
      ]
     },
     "execution_count": 11,
     "metadata": {},
     "output_type": "execute_result"
    }
   ],
   "execution_count": 11
  }
 ],
 "metadata": {
  "kernelspec": {
   "display_name": "Python 3",
   "language": "python",
   "name": "python3"
  },
  "language_info": {
   "codemirror_mode": {
    "name": "ipython",
    "version": 2
   },
   "file_extension": ".py",
   "mimetype": "text/x-python",
   "name": "python",
   "nbconvert_exporter": "python",
   "pygments_lexer": "ipython2",
   "version": "2.7.6"
  }
 },
 "nbformat": 4,
 "nbformat_minor": 5
}
