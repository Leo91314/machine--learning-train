{
 "cells": [
  {
   "metadata": {},
   "cell_type": "markdown",
   "source": "样本点\n",
   "id": "795ae24f93726296"
  },
  {
   "cell_type": "code",
   "id": "initial_id",
   "metadata": {
    "collapsed": true,
    "ExecuteTime": {
     "end_time": "2025-06-15T09:56:02.407916Z",
     "start_time": "2025-06-15T09:56:02.400621Z"
    }
   },
   "source": [
    "import numpy as np\n",
    "import matplotlib.pyplot as plt\n",
    "\n",
    "# 设置随机种子以保证结果可复现\n",
    "np.random.seed(42)\n",
    "\n",
    "# 生成100个二维样本点（X）和对应的目标值（y）\n",
    "num_samples = 100\n",
    "X = np.random.rand(num_samples)  # 100个样本点，每个点有两个特征\n",
    "\n",
    "\n",
    "y=  3  * X + np.random.randn(num_samples)\n",
    "data=np.hstack((X.reshape(-1,1),y.reshape(-1,1)))\n",
    "data\n"
   ],
   "outputs": [
    {
     "data": {
      "text/plain": [
       "array([[ 0.37454012,  1.21066742],\n",
       "       [ 0.95071431,  2.55313557],\n",
       "       [ 0.73199394,  2.2877426 ],\n",
       "       [ 0.59865848, -0.19159346],\n",
       "       [ 0.15601864,  0.24838403],\n",
       "       [ 0.15599452,  0.82509613],\n",
       "       [ 0.05808361,  1.65214488],\n",
       "       [ 0.86617615,  2.08025822],\n",
       "       [ 0.60111501,  0.99485143],\n",
       "       [ 0.70807258,  1.62246069],\n",
       "       [ 0.02058449,  0.9771556 ],\n",
       "       [ 0.96990985,  3.23848067],\n",
       "       [ 0.83244264,  1.96756772],\n",
       "       [ 0.21233911,  1.15028477],\n",
       "       [ 0.18182497,  0.64255245],\n",
       "       [ 0.18340451,  1.51885852],\n",
       "       [ 0.30424224,  0.21067364],\n",
       "       [ 0.52475643,  1.24660715],\n",
       "       [ 0.43194502,  0.9037269 ],\n",
       "       [ 0.29122914, -0.58982753],\n",
       "       [ 0.61185289,  2.13167896],\n",
       "       [ 0.13949386,  0.67953685],\n",
       "       [ 0.29214465,  0.8815474 ],\n",
       "       [ 0.36636184,  0.8644984 ],\n",
       "       [ 0.45606998, -0.04716079],\n",
       "       [ 0.78517596,  1.93488256],\n",
       "       [ 0.19967378,  0.25630683],\n",
       "       [ 0.51423444,  0.74042605],\n",
       "       [ 0.59241457,  1.61595799],\n",
       "       [ 0.04645041,  0.54340209],\n",
       "       [ 0.60754485,  3.70882046],\n",
       "       [ 0.17052412,  0.68615018],\n",
       "       [ 0.06505159,  0.45270517],\n",
       "       [ 0.94888554,  2.7722107 ],\n",
       "       [ 0.96563203,  0.97812488],\n",
       "       [ 0.80839735,  2.39867817],\n",
       "       [ 0.30461377,  0.97407152],\n",
       "       [ 0.09767211,  2.75625845],\n",
       "       [ 0.68423303,  1.86033811],\n",
       "       [ 0.44015249,  1.62200482],\n",
       "       [ 0.12203823,  0.33140293],\n",
       "       [ 0.49517691,  0.31685269],\n",
       "       [ 0.03438852,  1.24598838],\n",
       "       [ 0.9093204 ,  3.47989424],\n",
       "       [ 0.25877998,  1.56737189],\n",
       "       [ 0.66252228,  1.0781794 ],\n",
       "       [ 0.31171108,  2.33792754],\n",
       "       [ 0.52006802,  0.158353  ],\n",
       "       [ 0.54671028,  2.22698793],\n",
       "       [ 0.18485446,  2.74501899],\n",
       "       [ 0.96958463,  1.91821756],\n",
       "       [ 0.77513282,  1.75910074],\n",
       "       [ 0.93949894,  2.91814819],\n",
       "       [ 0.89482735,  2.1810064 ],\n",
       "       [ 0.59789998,  0.24303651],\n",
       "       [ 0.92187424,  2.83418568],\n",
       "       [ 0.0884925 , -0.79682621],\n",
       "       [ 0.19598286,  1.06154102],\n",
       "       [ 0.04522729, -0.78374237],\n",
       "       [ 0.32533033,  2.5259254 ],\n",
       "       [ 0.38867729,  0.38277858],\n",
       "       [ 0.27134903,  0.49198558],\n",
       "       [ 0.82873751,  3.29972974],\n",
       "       [ 0.35675333, -0.16060434],\n",
       "       [ 0.28093451,  1.07026346],\n",
       "       [ 0.54269608,  2.935231  ],\n",
       "       [ 0.14092422, -1.18471056],\n",
       "       [ 0.80219698,  2.5912248 ],\n",
       "       [ 0.07455064,  0.48353473],\n",
       "       [ 0.98688694,  3.74248368],\n",
       "       [ 0.77224477,  1.0797836 ],\n",
       "       [ 0.19871568, -0.72430957],\n",
       "       [ 0.00552212,  0.53850792],\n",
       "       [ 0.81546143,  2.74336896],\n",
       "       [ 0.70685734,  2.37106488],\n",
       "       [ 0.72900717,  2.53346971],\n",
       "       [ 0.77127035,  1.63378632],\n",
       "       [ 0.07404465,  0.45438765],\n",
       "       [ 0.35846573,  1.36846966],\n",
       "       [ 0.11586906, -0.36674424],\n",
       "       [ 0.86310343,  4.45508479],\n",
       "       [ 0.62329813,  2.3437273 ],\n",
       "       [ 0.33089802, -0.19860942],\n",
       "       [ 0.06355835,  0.84722866],\n",
       "       [ 0.31098232, -0.04173471],\n",
       "       [ 0.32518332,  1.76263457],\n",
       "       [ 0.72960618,  3.34741411],\n",
       "       [ 0.63755747,  1.0919901 ],\n",
       "       [ 0.88721274,  3.62501436],\n",
       "       [ 0.47221493,  1.8294257 ],\n",
       "       [ 0.11959425,  1.1808429 ],\n",
       "       [ 0.71324479,  4.03652734],\n",
       "       [ 0.76078505,  2.03696703],\n",
       "       [ 0.5612772 ,  0.93009543],\n",
       "       [ 0.77096718,  1.42338711],\n",
       "       [ 0.4937956 ,  0.6655765 ],\n",
       "       [ 0.52273283,  1.49109678],\n",
       "       [ 0.42754102,  1.62377503],\n",
       "       [ 0.02541913,  0.35294818],\n",
       "       [ 0.10789143,  1.15085753]])"
      ]
     },
     "execution_count": 36,
     "metadata": {},
     "output_type": "execute_result"
    }
   ],
   "execution_count": 36
  },
  {
   "metadata": {
    "ExecuteTime": {
     "end_time": "2025-06-15T09:56:02.448322Z",
     "start_time": "2025-06-15T09:56:02.446137Z"
    }
   },
   "cell_type": "code",
   "source": [
    "n=data.shape[1]-1\n",
    "X = data[:, :n]\n",
    "y = data[:, n].reshape(-1, 1)"
   ],
   "id": "8ba9dcdc973aebe2",
   "outputs": [],
   "execution_count": 37
  },
  {
   "metadata": {},
   "cell_type": "markdown",
   "source": "特征归一化",
   "id": "5212cd3ee221dc9"
  },
  {
   "metadata": {
    "ExecuteTime": {
     "end_time": "2025-06-15T09:56:02.479463Z",
     "start_time": "2025-06-15T09:56:02.477800Z"
    }
   },
   "cell_type": "code",
   "source": [
    "def featureNormalize(X):\n",
    "    mu = np.mean(X, axis=0)\n",
    "    sigma = np.std(X, axis=0, ddof=1)\n",
    "    X_norm = (X - mu) / sigma\n",
    "    return X_norm, mu, sigma"
   ],
   "id": "dd7dc6fa5b4cf67",
   "outputs": [],
   "execution_count": 38
  },
  {
   "metadata": {},
   "cell_type": "markdown",
   "source": "计算损失函数",
   "id": "aa482690227d397d"
  },
  {
   "metadata": {
    "ExecuteTime": {
     "end_time": "2025-06-15T09:56:02.494061Z",
     "start_time": "2025-06-15T09:56:02.492354Z"
    }
   },
   "cell_type": "code",
   "source": [
    "def compute_cost(X, y, theta):\n",
    "    m = X.shape[0]\n",
    "    return np.sum(np.power(X @ theta - y, 2))/(2*m)"
   ],
   "id": "34955858ddd51bcd",
   "outputs": [],
   "execution_count": 39
  },
  {
   "metadata": {},
   "cell_type": "markdown",
   "source": [
    "梯度下降\n",
    "梯度下降的核心是通过不断调整参数 $ \\theta $，使损失函数 $ J(\\theta) $ 达到最小值。关键公式包括：\n",
    "\n",
    "损失函数：$ J(\\theta) = \\frac{1}{2m} \\sum_{i=1}^{m} (h_\\theta(x^{(i)}) - y^{(i)})^2 $\n",
    "\n",
    "参数更新：\n",
    "$ \\theta_j := \\theta_j - \\alpha \\cdot \\frac{1}{m} \\sum_{i=1}^{m} (h_\\theta(x^{(i)}) - y^{(i)}) \\cdot x_j^{(i)} $"
   ],
   "id": "ea349f464e4d9671"
  },
  {
   "metadata": {
    "ExecuteTime": {
     "end_time": "2025-06-15T09:56:02.507275Z",
     "start_time": "2025-06-15T09:56:02.504927Z"
    }
   },
   "cell_type": "code",
   "source": [
    "def gradient_descent(X, y,theta, num_iterations=1000,learning_rate=0.01):\n",
    "    c = np.ones(X.shape[0]).reshape(-1, 1)\n",
    "    X = np.hstack((c,X))\n",
    "    m = X.shape[0]\n",
    "    n = X.shape[1]\n",
    "    costs = np.zeros(num_iterations)\n",
    "    for i in range(num_iterations):\n",
    "        for j in range(n):\n",
    "            theta[j] = theta[j] - learning_rate * (1/m) * (X[:,j] @ (X @ theta - y))\n",
    "        costs[i] = compute_cost(X, y, theta)\n",
    "    return theta, costs"
   ],
   "id": "467db0d7c5a142c6",
   "outputs": [],
   "execution_count": 40
  },
  {
   "metadata": {
    "ExecuteTime": {
     "end_time": "2025-06-15T09:56:02.525599Z",
     "start_time": "2025-06-15T09:56:02.518181Z"
    }
   },
   "cell_type": "code",
   "source": [
    "theta = np.zeros(n+1).reshape(-1, 1)\n",
    "X, mu, sigma = featureNormalize(X)#特征归一化\n",
    "num_iterations = 400\n",
    "theta, costs = gradient_descent(X, y,theta,num_iterations)\n",
    "print(theta)\n",
    "# print(X)\n"
   ],
   "id": "d1963dcfa5efa854",
   "outputs": [
    {
     "name": "stdout",
     "output_type": "stream",
     "text": [
      "[[1.38416125]\n",
      " [0.74156623]]\n"
     ]
    }
   ],
   "execution_count": 41
  },
  {
   "metadata": {
    "ExecuteTime": {
     "end_time": "2025-06-15T09:56:02.596486Z",
     "start_time": "2025-06-15T09:56:02.541549Z"
    }
   },
   "cell_type": "code",
   "source": [
    "plt.scatter(X, y)\n",
    "h_theta  = X@ theta[1]+theta[0]\n",
    "plt.plot(X,  h_theta, color='red')"
   ],
   "id": "a9df42275c8d15a0",
   "outputs": [
    {
     "data": {
      "text/plain": [
       "[<matplotlib.lines.Line2D at 0x146e876d0>]"
      ]
     },
     "execution_count": 42,
     "metadata": {},
     "output_type": "execute_result"
    },
    {
     "data": {
      "text/plain": [
       "<Figure size 640x480 with 1 Axes>"
      ],
      "image/png": "[encoded data removed]"
     },
     "metadata": {},
     "output_type": "display_data"
    }
   ],
   "execution_count": 42
  },
  {
   "metadata": {},
   "cell_type": "markdown",
   "source": "绘制损失函数",
   "id": "ad1d30cb63683ae9"
  },
  {
   "metadata": {
    "ExecuteTime": {
     "end_time": "2025-06-15T09:56:02.672630Z",
     "start_time": "2025-06-15T09:56:02.611470Z"
    }
   },
   "cell_type": "code",
   "source": [
    "x_axis = np.linspace(0, num_iterations, num_iterations)\n",
    "plt.plot(x_axis, costs)"
   ],
   "id": "a5da35f771c3ffe9",
   "outputs": [
    {
     "data": {
      "text/plain": [
       "[<matplotlib.lines.Line2D at 0x146f39400>]"
      ]
     },
     "execution_count": 43,
     "metadata": {},
     "output_type": "execute_result"
    },
    {
     "data": {
      "text/plain": [
       "<Figure size 640x480 with 1 Axes>"
      ],
      "image/png": "[encoded data removed]"
     },
     "metadata": {},
     "output_type": "display_data"
    }
   ],
   "execution_count": 43
  }
 ],
 "metadata": {
  "kernelspec": {
   "display_name": "Python 3",
   "language": "python",
   "name": "python3"
  },
  "language_info": {
   "codemirror_mode": {
    "name": "ipython",
    "version": 2
   },
   "file_extension": ".py",
   "mimetype": "text/x-python",
   "name": "python",
   "nbconvert_exporter": "python",
   "pygments_lexer": "ipython2",
   "version": "2.7.6"
  }
 },
 "nbformat": 4,
 "nbformat_minor": 5
}
