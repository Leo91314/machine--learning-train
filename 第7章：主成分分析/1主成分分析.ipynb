{
 "cells": [
  {
   "metadata": {},
   "cell_type": "markdown",
   "source": [
    "# 主成分分析（Principal Component Analysis, PCA）详解\n",
    "\n",
    "主成分分析（PCA）是一种经典的**线性降维方法**，广泛应用于数据预处理、特征提取、压缩与可视化。\n",
    "\n",
    "PCA通过线性变换，将原始数据投影到方差最大的方向上，从而得到一组无关的新特征（主成分）。\n",
    "\n",
    "---\n",
    "\n",
    "## 一、核心思想\n",
    "\n",
    "- 在高维空间中，找到数据方差最大的方向作为第一主成分；\n",
    "- 在剩余的正交方向上依次寻找方差最大的方向，作为后续主成分；\n",
    "- 通过保留前 $k$ 个主成分，达到**降维和信息保留**的目的。\n",
    "\n",
    "---\n",
    "\n",
    "## 二、数学推导\n",
    "\n",
    "### 1. 数据中心化\n",
    "\n",
    "设原始数据矩阵 $X \\in \\mathbb{R}^{n \\times d}$，先进行均值归零：\n",
    "\n",
    "$$\n",
    "\\bar{x} = \\frac{1}{n}\\sum_{i=1}^n x_i\n",
    "$$\n",
    "\n",
    "$$\n",
    "X_{\\text{centered}} = X - \\bar{x}\n",
    "$$\n",
    "\n",
    "---\n",
    "\n",
    "### 2. 协方差矩阵\n",
    "\n",
    "$$\n",
    "C = \\frac{1}{n} X_{\\text{centered}}^T X_{\\text{centered}}\n",
    "$$\n",
    "\n",
    "---\n",
    "\n",
    "### 3. 特征值分解（Eigen Decomposition）\n",
    "\n",
    "求解协方差矩阵的特征值与特征向量：\n",
    "\n",
    "$$\n",
    "C v_j = \\lambda_j v_j\n",
    "$$\n",
    "\n",
    "- $\\lambda_j$：特征值，表示沿主成分方向的方差大小\n",
    "- $v_j$：对应的特征向量，表示投影方向\n",
    "\n",
    "将特征值从大到小排序，选择前 $k$ 个最大特征值对应的特征向量。\n",
    "\n",
    "---\n",
    "\n",
    "### 4. 投影变换\n",
    "\n",
    "原始样本 $x$ 的降维表示：\n",
    "\n",
    "$$\n",
    "z = V_k^T \\cdot x\n",
    "$$\n",
    "\n",
    "其中 $V_k = [v_1, v_2, \\ldots, v_k]$。\n",
    "\n",
    "---\n",
    "\n",
    "## 三、几何解释\n",
    "\n",
    "- 第一个主成分：**数据分布方差最大的方向**\n",
    "- 第二个主成分：在与第一个主成分正交的空间中，方差最大的方向\n",
    "- 所有主成分两两正交\n",
    "\n",
    "---\n",
    "\n",
    "## 四、PCA与SVD的关系\n",
    "\n",
    "PCA也可通过奇异值分解（SVD）求解：\n",
    "\n",
    "$$\n",
    "X_{\\text{centered}} = U \\Sigma V^T\n",
    "$$\n",
    "\n",
    "其中：\n",
    "- $V$：列为主成分方向\n",
    "- $\\Sigma$：奇异值，对应方差\n",
    "\n",
    "SVD方法更稳定，常用于大规模数据。\n",
    "\n",
    "---\n",
    "\n",
    "## 五、优缺点\n",
    "\n",
    "### ✅ 优点：\n",
    "- 简单高效，易解释\n",
    "- 能去除冗余维度，提升后续模型性能\n",
    "- 在许多场景下能显著降低计算量\n",
    "\n",
    "### ❌ 缺点：\n",
    "- 仅能发现**线性关系**\n",
    "- 对异常值敏感\n",
    "- 结果缺乏可解释性（主成分是线性组合）\n",
    "\n",
    "---\n",
    "\n",
    "## 六、与其他降维方法对比\n",
    "\n",
    "| 方法         | 是否线性   | 特点                              |\n",
    "|--------------|------------|----------------------------------|\n",
    "| PCA          | 是         | 方差最大方向，特征正交           |\n",
    "| LDA          | 是         | 最大化类间距（监督学习）         |\n",
    "| t-SNE        | 否         | 非线性保局部邻域（可视化）       |\n",
    "| ICA          | 是         | 独立分量（信号分离）             |\n",
    "\n",
    "---\n",
    "\n",
    "## 七、Python示例（使用 scikit-learn）\n",
    "\n",
    "```python\n",
    "import numpy as np\n",
    "from sklearn.decomposition import PCA\n",
    "from sklearn.datasets import load_iris\n",
    "import matplotlib.pyplot as plt\n",
    "\n",
    "# 加载数据\n",
    "iris = load_iris()\n",
    "X = iris.data\n",
    "y = iris.target\n",
    "\n",
    "# PCA降维到2维\n",
    "pca = PCA(n_components=2)\n",
    "X_pca = pca.fit_transform(X)\n",
    "\n",
    "# 可视化\n",
    "plt.figure(figsize=(8,6))\n",
    "scatter = plt.scatter(X_pca[:,0], X_pca[:,1], c=y, cmap='Set1')\n",
    "plt.xlabel(\"First Principal Component\")\n",
    "plt.ylabel(\"Second Principal Component\")\n",
    "plt.title(\"PCA of Iris Dataset\")\n",
    "plt.legend(*scatter.legend_elements(), title=\"Classes\")\n",
    "plt.show()\n",
    "\n",
    "# 查看解释方差比例\n",
    "print(\"Explained variance ratio:\", pca.explained_variance_ratio_)\n",
    "```\n",
    "\n",
    "---\n",
    "\n",
    "## 八、如何选择保留的主成分数量\n",
    "\n",
    "1. **累积方差解释率**：\n",
    "   - 常用阈值：90%或95%。\n",
    "2. **碎石图（Scree Plot）**：\n",
    "   - 绘制特征值排序曲线，找“拐点”。\n",
    "\n",
    "```python\n",
    "import matplotlib.pyplot as plt\n",
    "\n",
    "pca_full = PCA().fit(X)\n",
    "plt.plot(np.cumsum(pca_full.explained_variance_ratio_))\n",
    "plt.xlabel('Number of Components')\n",
    "plt.ylabel('Cumulative Explained Variance')\n",
    "plt.title('Scree Plot')\n",
    "plt.grid()\n",
    "plt.show()\n",
    "```\n",
    "\n",
    "---\n",
    "\n",
    "## 九、总结\n",
    "\n",
    "PCA是最常用的线性降维方法，核心要点：\n",
    "- 通过协方差矩阵的特征分解/奇异值分解求解；\n",
    "- 最大化投影方差；\n",
    "- 结果是正交的低维表示。\n",
    "\n",
    "在特征冗余明显的高维数据中，PCA能显著提高后续机器学习模型的效率和性能。\n",
    "\n",
    "---"
   ],
   "id": "6d0ea9a67da11220"
  },
  {
   "metadata": {
    "ExecuteTime": {
     "end_time": "2025-07-08T15:00:36.821227Z",
     "start_time": "2025-07-08T15:00:36.814644Z"
    }
   },
   "cell_type": "code",
   "source": [
    "import numpy as np\n",
    "import matplotlib.pyplot as plt\n",
    "import matplotlib as mpl\n"
   ],
   "id": "536406dceb9e7866",
   "outputs": [],
   "execution_count": 16
  },
  {
   "metadata": {
    "ExecuteTime": {
     "end_time": "2025-07-08T15:00:36.832935Z",
     "start_time": "2025-07-08T15:00:36.830627Z"
    }
   },
   "cell_type": "code",
   "source": [
    "def loaddata():\n",
    "    data = np.loadtxt('data/pca_data.csv', delimiter=',')\n",
    "    return  data"
   ],
   "id": "b3c6018604dbb048",
   "outputs": [],
   "execution_count": 17
  },
  {
   "metadata": {
    "ExecuteTime": {
     "end_time": "2025-07-08T15:00:36.924932Z",
     "start_time": "2025-07-08T15:00:36.848128Z"
    }
   },
   "cell_type": "code",
   "source": [
    "X = loaddata()\n",
    "plt.scatter(X[:,0], X[:,1],s = 10)\n",
    "plt.show()"
   ],
   "id": "8eef5659faf858fe",
   "outputs": [
    {
     "data": {
      "text/plain": [
       "<Figure size 640x480 with 1 Axes>"
      ],
      "image/png": "[encoded data removed]"
     },
     "metadata": {},
     "output_type": "display_data"
    }
   ],
   "execution_count": 18
  },
  {
   "metadata": {
    "ExecuteTime": {
     "end_time": "2025-07-08T15:00:36.946646Z",
     "start_time": "2025-07-08T15:00:36.941281Z"
    }
   },
   "cell_type": "code",
   "source": [
    "def featureNormalize(X):\n",
    "    mu = np.mean(X, axis = 0).reshape(1, -1)\n",
    "    sigma = np.std(X, axis = 0).reshape(1, -1)\n",
    "    X = (X - mu) / sigma\n",
    "    return X, mu, sigma"
   ],
   "id": "ff76e8a1dab7b6c6",
   "outputs": [],
   "execution_count": 19
  },
  {
   "metadata": {
    "ExecuteTime": {
     "end_time": "2025-07-08T15:00:36.957677Z",
     "start_time": "2025-07-08T15:00:36.954108Z"
    }
   },
   "cell_type": "code",
   "source": [
    "def pca(X,K):\n",
    "    m = len(X)\n",
    "    sigma = np.dot(X.T, X)/(m-1)\n",
    "    eigenvalues, eigenvectors = np.linalg.eig(sigma)\n",
    "    index = np.argsort(-eigenvalues)#降序排列\n",
    "    eigenvectors = eigenvectors[:,index]\n",
    "    u_reduce = eigenvectors[:,:K]#\n",
    "    return np.dot(X,u_reduce),eigenvectors"
   ],
   "id": "51a9deb2583ab776",
   "outputs": [],
   "execution_count": 20
  },
  {
   "metadata": {
    "ExecuteTime": {
     "end_time": "2025-07-08T15:00:36.972079Z",
     "start_time": "2025-07-08T15:00:36.967225Z"
    }
   },
   "cell_type": "code",
   "source": [
    "X,mu,sigma = featureNormalize(X)\n",
    "X_reduce,u_reduce = pca(X,1)\n",
    "X"
   ],
   "id": "dfd59ff869d99719",
   "outputs": [
    {
     "data": {
      "text/plain": [
       "array([[-0.52331306, -1.59279252],\n",
       "       [ 0.46381518,  0.84034523],\n",
       "       [-1.14839331, -0.58315891],\n",
       "       [-1.05405373, -1.27071783],\n",
       "       [-0.98402167, -0.81658417],\n",
       "       [-0.08490201,  1.46633377],\n",
       "       [-0.44215763, -1.35221333],\n",
       "       [ 1.65512709,  1.65622961],\n",
       "       [-0.05198776,  0.09440201],\n",
       "       [ 0.49305926,  0.61245677],\n",
       "       [ 0.50359639,  0.38973079],\n",
       "       [ 0.32935623,  0.45242294],\n",
       "       [ 0.17431804, -0.04748911],\n",
       "       [ 1.08056741, -0.33689741],\n",
       "       [-0.99325294, -1.21879564],\n",
       "       [ 1.41742949,  1.2923503 ],\n",
       "       [ 0.60026548,  0.65385535],\n",
       "       [-0.98061738, -0.37147508],\n",
       "       [ 0.96523763,  2.32981886],\n",
       "       [ 1.02758927, -0.35168199],\n",
       "       [ 1.47948139,  1.65649752],\n",
       "       [-0.35270365, -0.19743438],\n",
       "       [ 1.42096706,  1.10315449],\n",
       "       [ 0.23612558, -0.30931801],\n",
       "       [-1.25101023, -1.1038306 ],\n",
       "       [-0.65914279, -0.05946964],\n",
       "       [ 0.80965726,  0.93988073],\n",
       "       [ 1.55321995,  0.10421963],\n",
       "       [-1.00960756, -0.18146695],\n",
       "       [-0.08649323,  0.09629619],\n",
       "       [-0.55631899,  0.87867759],\n",
       "       [ 1.62794601,  0.51189371],\n",
       "       [-0.76240121, -1.13086421],\n",
       "       [ 1.15584817, -0.31789212],\n",
       "       [-0.5285968 , -0.43176175],\n",
       "       [ 0.67806821,  1.23533447],\n",
       "       [-1.13111516, -1.25536309],\n",
       "       [ 1.30118247,  0.66791095],\n",
       "       [-1.88774936, -1.73253268],\n",
       "       [ 0.28697223,  0.10689618],\n",
       "       [ 0.37178505,  1.00958613],\n",
       "       [-0.69748919, -0.55861538],\n",
       "       [-0.82300596, -1.01074999],\n",
       "       [ 0.53397416,  0.86562738],\n",
       "       [-0.8830723 , -1.68050588],\n",
       "       [-0.01507225,  0.39968681],\n",
       "       [-2.41895154, -2.09660014],\n",
       "       [-1.7828174 ,  0.06738835],\n",
       "       [-0.02929439, -0.49103538],\n",
       "       [ 0.97195249,  1.06825042]])"
      ]
     },
     "execution_count": 21,
     "metadata": {},
     "output_type": "execute_result"
    }
   ],
   "execution_count": 21
  },
  {
   "metadata": {
    "ExecuteTime": {
     "end_time": "2025-07-08T15:00:37.013350Z",
     "start_time": "2025-07-08T15:00:37.008262Z"
    }
   },
   "cell_type": "code",
   "source": "X_reduce",
   "id": "50165f9c9250e07d",
   "outputs": [
    {
     "data": {
      "text/plain": [
       "array([[ 1.49631261],\n",
       "       [-0.92218067],\n",
       "       [ 1.22439232],\n",
       "       [ 1.64386173],\n",
       "       [ 1.2732206 ],\n",
       "       [-0.97681976],\n",
       "       [ 1.26881187],\n",
       "       [-2.34148278],\n",
       "       [-0.02999141],\n",
       "       [-0.78171789],\n",
       "       [-0.6316777 ],\n",
       "       [-0.55280135],\n",
       "       [-0.0896816 ],\n",
       "       [-0.5258541 ],\n",
       "       [ 1.56415455],\n",
       "       [-1.91610366],\n",
       "       [-0.88679735],\n",
       "       [ 0.95607375],\n",
       "       [-2.32995679],\n",
       "       [-0.47793862],\n",
       "       [-2.21747195],\n",
       "       [ 0.38900633],\n",
       "       [-1.78482346],\n",
       "       [ 0.05175486],\n",
       "       [ 1.66512392],\n",
       "       [ 0.50813572],\n",
       "       [-1.23711018],\n",
       "       [-1.17198677],\n",
       "       [ 0.84221686],\n",
       "       [-0.00693174],\n",
       "       [-0.22794195],\n",
       "       [-1.51309518],\n",
       "       [ 1.33874082],\n",
       "       [-0.5925244 ],\n",
       "       [ 0.67907605],\n",
       "       [-1.35298   ],\n",
       "       [ 1.68749495],\n",
       "       [-1.39235931],\n",
       "       [ 2.55992598],\n",
       "       [-0.27850702],\n",
       "       [-0.97677692],\n",
       "       [ 0.88820006],\n",
       "       [ 1.29666127],\n",
       "       [-0.98966774],\n",
       "       [ 1.81272352],\n",
       "       [-0.27196356],\n",
       "       [ 3.19297722],\n",
       "       [ 1.21299151],\n",
       "       [ 0.36792871],\n",
       "       [-1.44264131]])"
      ]
     },
     "execution_count": 22,
     "metadata": {},
     "output_type": "execute_result"
    }
   ],
   "execution_count": 22
  },
  {
   "metadata": {
    "ExecuteTime": {
     "end_time": "2025-07-08T15:00:37.071730Z",
     "start_time": "2025-07-08T15:00:37.068314Z"
    }
   },
   "cell_type": "code",
   "source": [
    "def recoverData(Z,U,K):#恢复数据\n",
    "    U_reduce = U[:,:K]\n",
    "    X_rec = np.dot(Z,np.transpose(U_reduce))\n",
    "    return X_rec"
   ],
   "id": "ee44ae4260865c79",
   "outputs": [],
   "execution_count": 23
  },
  {
   "metadata": {
    "ExecuteTime": {
     "end_time": "2025-07-08T15:01:28.305195Z",
     "start_time": "2025-07-08T15:01:28.227812Z"
    }
   },
   "cell_type": "code",
   "source": [
    "X_rec = recoverData(X_reduce,u_reduce,1)\n",
    "plt.scatter(X_rec[:,0], X_rec[:,1],s = 10, c = 'r')\n",
    "plt.scatter(X[:,0], X[:,1],s = 10)\n",
    "plt.show()"
   ],
   "id": "ed8fb75249d36cf6",
   "outputs": [
    {
     "data": {
      "text/plain": [
       "<Figure size 640x480 with 1 Axes>"
      ],
      "image/png": "[encoded data removed]"
     },
     "metadata": {},
     "output_type": "display_data"
    }
   ],
   "execution_count": 25
  },
  {
   "metadata": {},
   "cell_type": "markdown",
   "source": "",
   "id": "612f3a1d577e27e1"
  }
 ],
 "metadata": {
  "kernelspec": {
   "display_name": "Python 3",
   "language": "python",
   "name": "python3"
  },
  "language_info": {
   "codemirror_mode": {
    "name": "ipython",
    "version": 2
   },
   "file_extension": ".py",
   "mimetype": "text/x-python",
   "name": "python",
   "nbconvert_exporter": "python",
   "pygments_lexer": "ipython2",
   "version": "2.7.6"
  }
 },
 "nbformat": 4,
 "nbformat_minor": 5
}
